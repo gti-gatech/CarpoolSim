{
 "cells": [
  {
   "cell_type": "code",
   "execution_count": 1,
   "id": "51691e75-0f04-4f16-906f-d075ad5c6341",
   "metadata": {},
   "outputs": [],
   "source": [
    "import os\n",
    "import sys\n",
    "\n",
    "import numpy as np\n",
    "import pandas as pd\n",
    "import geopandas as gpd\n",
    "\n",
    "# for auto-reloading external modules\n",
    "# see http://stackoverflow.com/questions/1907993/%autoreload-of-modules-in-ipython\n",
    "%load_ext autoreload\n",
    "%autoreload 2\n",
    "pd.options.display.max_columns = None  # display all columns"
   ]
  },
  {
   "cell_type": "code",
   "execution_count": 2,
   "id": "d3608000-9b94-4bda-82e2-af9dc14cf510",
   "metadata": {},
   "outputs": [],
   "source": [
    "# need to set this environmental path everytime you moves the project root folder\n",
    "os.environ['project_root'] = '/Users/geekduck/Dropbox/gt_survey'\n",
    "\n",
    "sys.path.append(\n",
    "    os.environ['project_root']\n",
    ")"
   ]
  },
  {
   "cell_type": "code",
   "execution_count": 3,
   "id": "a16577c6-1f0e-48c6-9f95-f32edd4e607d",
   "metadata": {},
   "outputs": [],
   "source": [
    "from carpoolsim.basic_settings import *"
   ]
  },
  {
   "cell_type": "code",
   "execution_count": 4,
   "id": "0e6dc95d-93a6-466c-b48f-a6868202432b",
   "metadata": {},
   "outputs": [],
   "source": [
    "# load traffic network data\n",
    "taz_centriod_nodes = gpd.read_file(os.environ[\"taz\"])\n",
    "df_nodes_raw = gpd.read_file(os.environ['network_nodes'])\n",
    "df_links_raw = gpd.read_file(os.environ['network_links'])"
   ]
  },
  {
   "cell_type": "code",
   "execution_count": 5,
   "id": "13dfe19a-d8b0-4522-be50-e53dc6bbdccd",
   "metadata": {},
   "outputs": [],
   "source": [
    "taz_centriod_nodes[\"taz_id\"] = taz_centriod_nodes[\"OBJECTID\"]"
   ]
  },
  {
   "cell_type": "code",
   "execution_count": 6,
   "id": "4b0ee5a3-6bae-4070-950a-4fa204437aeb",
   "metadata": {},
   "outputs": [],
   "source": [
    "from carpoolsim.prepare_input import TrafficNetwork"
   ]
  },
  {
   "cell_type": "code",
   "execution_count": 7,
   "id": "732f3a42-2ee4-4fc0-ae1d-ce6cb376d5ba",
   "metadata": {},
   "outputs": [],
   "source": [
    "# init object\n",
    "traffic_network = TrafficNetwork(\n",
    "    network_links=df_links_raw.copy(),\n",
    "    network_nodes=df_nodes_raw.copy(),\n",
    "    tazs=taz_centriod_nodes.copy(),\n",
    ")"
   ]
  },
  {
   "cell_type": "code",
   "execution_count": 8,
   "id": "a72e9f76-41dd-4779-a3b9-efd5221624e6",
   "metadata": {},
   "outputs": [],
   "source": [
    "traffic_network.get_taz_id_list()\n",
    "traffic_network.convert_abm_links()\n",
    "traffic_network.build_network()"
   ]
  },
  {
   "cell_type": "code",
   "execution_count": 9,
   "id": "72d6a626-ee63-4163-8301-2380f9cc71bf",
   "metadata": {},
   "outputs": [],
   "source": [
    "taz_lst = traffic_network.prepare_taz_lists(chunk_size=100)"
   ]
  },
  {
   "cell_type": "code",
   "execution_count": 10,
   "id": "aaca95f6-b205-4df8-9d8d-3029ab6fc57d",
   "metadata": {},
   "outputs": [],
   "source": [
    "import time\n",
    "import copy\n",
    "\n",
    "import multiprocess"
   ]
  },
  {
   "cell_type": "code",
   "execution_count": 11,
   "id": "9ba825d3-ec3a-4025-80e6-85ad3c6d3af0",
   "metadata": {},
   "outputs": [],
   "source": [
    "from carpoolsim.prepare_input import get_shortest_paths"
   ]
  },
  {
   "cell_type": "code",
   "execution_count": 12,
   "id": "9fc57b03-90ae-4787-aefe-db1d9257b518",
   "metadata": {},
   "outputs": [],
   "source": [
    "network_dict = traffic_network.network_dict\n",
    "destination_lst = traffic_network.tazs_ids\n",
    "taz_lst = traffic_network.prepare_taz_lists(chunk_size=100)\n",
    "task_inputs = [\n",
    "    (network_dict, destination_lst, taz)\n",
    "    for taz in taz_lst\n",
    "]"
   ]
  },
  {
   "cell_type": "code",
   "execution_count": 13,
   "id": "a98a442a-4908-427c-ae28-3c0657187e57",
   "metadata": {},
   "outputs": [
    {
     "data": {
      "text/plain": [
       "<networkx.classes.digraph.DiGraph at 0x29fe2b350>"
      ]
     },
     "execution_count": 13,
     "metadata": {},
     "output_type": "execute_result"
    }
   ],
   "source": [
    "network_dict[\"DG\"]"
   ]
  },
  {
   "cell_type": "code",
   "execution_count": 14,
   "id": "a78e9e3d-41cd-486b-b568-94695a719630",
   "metadata": {},
   "outputs": [
    {
     "data": {
      "text/plain": [
       "5873"
      ]
     },
     "execution_count": 14,
     "metadata": {},
     "output_type": "execute_result"
    }
   ],
   "source": [
    "len(destination_lst)"
   ]
  },
  {
   "cell_type": "code",
   "execution_count": 15,
   "id": "1aee61f9-4f54-4926-b2b9-2336499e8101",
   "metadata": {},
   "outputs": [
    {
     "name": "stdout",
     "output_type": "stream",
     "text": [
      "Finished searching 101 tazs\n",
      "Finished searching 101 tazs\n",
      "Finished searching 101 tazs\n",
      "Finished searching 101 tazs\n",
      "Finished searching 101 tazs\n",
      "Finished searching 101 tazs\n",
      "Finished searching 101 tazs\n",
      "Finished searching 101 tazs\n",
      "Finished searching 101 tazs\n",
      "Finished searching 101 tazs\n",
      "Finished searching 101 tazs\n",
      "Finished searching 101 tazs\n",
      "Finished searching 101 tazs\n",
      "Finished searching 101 tazs\n",
      "Finished searching 101 tazs\n",
      "Finished searching 101 tazs\n",
      "Finished searching 101 tazs\n",
      "Finished searching 101 tazs\n",
      "Finished searching 101 tazs\n",
      "Finished searching 101 tazs\n",
      "Finished searching 101 tazs\n",
      "Finished searching 101 tazs\n",
      "Finished searching 101 tazs\n",
      "Finished searching 101 tazs\n",
      "Finished searching 101 tazs\n",
      "Finished searching 101 tazs\n",
      "Finished searching 101 tazs\n",
      "Finished searching 101 tazs\n",
      "Finished searching 101 tazs\n",
      "Finished searching 101 tazs\n",
      "Finished searching 101 tazs\n",
      "Finished searching 101 tazs\n",
      "Finished searching 101 tazs\n",
      "Finished searching 101 tazs\n",
      "Finished searching 101 tazs\n",
      "Finished searching 101 tazs\n",
      "Finished searching 101 tazs\n",
      "Finished searching 101 tazs\n",
      "Finished searching 101 tazs\n",
      "Finished searching 101 tazs\n",
      "Finished searching 101 tazs\n",
      "Finished searching 101 tazs\n",
      "Finished searching 101 tazs\n",
      "Finished searching 101 tazs\n",
      "Finished searching 101 tazs\n",
      "Finished searching 101 tazs\n",
      "Finished searching 101 tazs\n",
      "Finished searching 101 tazs\n",
      "Finished searching 101 tazs\n",
      "Finished searching 101 tazs\n",
      "Finished searching 101 tazs\n",
      "Finished searching 101 tazs\n",
      "Finished searching 101 tazs\n",
      "Finished searching 101 tazs\n",
      "Finished searching 101 tazs\n",
      "Finished searching 101 tazs\n",
      "Finished searching 101 tazs\n",
      "Finished searching 73 tazs\n",
      "Finished searching 101 tazs\n",
      "It takes 6.6 minutes to finish the run\n"
     ]
    }
   ],
   "source": [
    "t0 = time.perf_counter()\n",
    "results = None\n",
    "with multiprocess.Pool(NUM_PROCESSES) as pool:\n",
    "    results = pool.starmap(get_shortest_paths, task_inputs)\n",
    "\n",
    "d1 = time.perf_counter() - t0\n",
    "print(f'It takes {d1/60:.1f} minutes to finish the run')"
   ]
  },
  {
   "cell_type": "markdown",
   "id": "c61eb2f9-b3ab-42c6-89c1-ae620d15722e",
   "metadata": {},
   "source": [
    "## Store results in a database"
   ]
  },
  {
   "cell_type": "code",
   "execution_count": null,
   "id": "a43afd91-3b22-4f4c-86db-c84d942e5222",
   "metadata": {},
   "outputs": [],
   "source": [
    "type(results)"
   ]
  },
  {
   "cell_type": "code",
   "execution_count": null,
   "id": "ca51e667-9ee9-4121-9aa6-4c51c35540af",
   "metadata": {},
   "outputs": [],
   "source": []
  },
  {
   "cell_type": "code",
   "execution_count": null,
   "id": "ee2f70ed-0a44-4303-b8f0-8dfdfbbf0bd8",
   "metadata": {},
   "outputs": [],
   "source": []
  },
  {
   "cell_type": "code",
   "execution_count": null,
   "id": "78aa741a-cb3b-424f-b840-93c25b2d58dd",
   "metadata": {},
   "outputs": [],
   "source": []
  },
  {
   "cell_type": "code",
   "execution_count": null,
   "id": "de2ea687-bdc3-4fa2-8616-64a8b591bddc",
   "metadata": {},
   "outputs": [],
   "source": []
  },
  {
   "cell_type": "code",
   "execution_count": null,
   "id": "71c1c012-771d-4eb8-ba98-54c81641109d",
   "metadata": {},
   "outputs": [],
   "source": []
  },
  {
   "cell_type": "code",
   "execution_count": null,
   "id": "26c318a9-e818-43ab-947e-433edc90ae1f",
   "metadata": {},
   "outputs": [],
   "source": []
  },
  {
   "cell_type": "code",
   "execution_count": null,
   "id": "f8203a16-cf70-44ef-91e3-ce534931cfd0",
   "metadata": {},
   "outputs": [],
   "source": []
  },
  {
   "cell_type": "code",
   "execution_count": null,
   "id": "3f7b2030-c955-45e8-b47d-f830c99b6d7a",
   "metadata": {},
   "outputs": [],
   "source": []
  },
  {
   "cell_type": "code",
   "execution_count": null,
   "id": "908c0d9b-edbc-4a52-b75f-6a5f40c639b4",
   "metadata": {},
   "outputs": [],
   "source": []
  },
  {
   "cell_type": "code",
   "execution_count": null,
   "id": "6c15d65d-1e60-4f05-914f-8f9df1ce1a92",
   "metadata": {},
   "outputs": [],
   "source": []
  },
  {
   "cell_type": "code",
   "execution_count": null,
   "id": "f24b47fe-e548-48be-ba4d-bcd9fed22364",
   "metadata": {},
   "outputs": [],
   "source": []
  },
  {
   "cell_type": "code",
   "execution_count": null,
   "id": "cd8a76e5-4d5c-4ea2-b196-c8028ddb69b0",
   "metadata": {},
   "outputs": [],
   "source": []
  },
  {
   "cell_type": "code",
   "execution_count": null,
   "id": "6e1e5c75-7d6f-4ba4-a5be-4aa5450023fc",
   "metadata": {},
   "outputs": [],
   "source": []
  },
  {
   "cell_type": "code",
   "execution_count": null,
   "id": "ddc7e9f3-1081-4ea9-8ee6-4d7d0d87e63c",
   "metadata": {},
   "outputs": [],
   "source": []
  },
  {
   "cell_type": "code",
   "execution_count": null,
   "id": "0504d12f-e68e-4611-bab3-d164ae089513",
   "metadata": {},
   "outputs": [],
   "source": []
  },
  {
   "cell_type": "code",
   "execution_count": null,
   "id": "6621e0f8-b66a-49fc-9ba2-d68ff6461676",
   "metadata": {},
   "outputs": [],
   "source": []
  }
 ],
 "metadata": {
  "kernelspec": {
   "display_name": "Python 3 (ipykernel)",
   "language": "python",
   "name": "python3"
  },
  "language_info": {
   "codemirror_mode": {
    "name": "ipython",
    "version": 3
   },
   "file_extension": ".py",
   "mimetype": "text/x-python",
   "name": "python",
   "nbconvert_exporter": "python",
   "pygments_lexer": "ipython3",
   "version": "3.12.2"
  }
 },
 "nbformat": 4,
 "nbformat_minor": 5
}
