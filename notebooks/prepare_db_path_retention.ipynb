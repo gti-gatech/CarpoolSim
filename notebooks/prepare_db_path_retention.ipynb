{
 "cells": [
  {
   "cell_type": "code",
   "execution_count": 1,
   "id": "51691e75-0f04-4f16-906f-d075ad5c6341",
   "metadata": {},
   "outputs": [],
   "source": [
    "import time\n",
    "import copy\n",
    "import os\n",
    "import sys\n",
    "\n",
    "import numpy as np\n",
    "import pandas as pd\n",
    "import geopandas as gpd\n",
    "import multiprocess\n",
    "\n",
    "# for auto-reloading external modules\n",
    "# see http://stackoverflow.com/questions/1907993/%autoreload-of-modules-in-ipython\n",
    "%load_ext autoreload\n",
    "%autoreload 2\n",
    "pd.options.display.max_columns = None  # display all columns"
   ]
  },
  {
   "cell_type": "code",
   "execution_count": 2,
   "id": "d3608000-9b94-4bda-82e2-af9dc14cf510",
   "metadata": {},
   "outputs": [],
   "source": [
    "# need to set this environmental path everytime you moves the project root folder\n",
    "os.environ['project_root'] = '/Users/geekduck/Dropbox/gt_survey'\n",
    "\n",
    "sys.path.append(\n",
    "    os.environ['project_root']\n",
    ")"
   ]
  },
  {
   "cell_type": "code",
   "execution_count": 35,
   "id": "a16577c6-1f0e-48c6-9f95-f32edd4e607d",
   "metadata": {},
   "outputs": [],
   "source": [
    "from carpoolsim.basic_settings import *\n",
    "\n",
    "from carpoolsim.prepare_input import (\n",
    "    get_shortest_paths,\n",
    "    TrafficNetwork\n",
    ")"
   ]
  },
  {
   "cell_type": "code",
   "execution_count": 4,
   "id": "0e6dc95d-93a6-466c-b48f-a6868202432b",
   "metadata": {},
   "outputs": [],
   "source": [
    "# load traffic network data\n",
    "taz_centriod_nodes = gpd.read_file(os.environ[\"taz\"])\n",
    "df_nodes_raw = gpd.read_file(os.environ['network_nodes'])\n",
    "df_links_raw = gpd.read_file(os.environ['network_links'])"
   ]
  },
  {
   "cell_type": "code",
   "execution_count": 5,
   "id": "13dfe19a-d8b0-4522-be50-e53dc6bbdccd",
   "metadata": {},
   "outputs": [],
   "source": [
    "taz_centriod_nodes[\"taz_id\"] = taz_centriod_nodes[\"OBJECTID\"]"
   ]
  },
  {
   "cell_type": "code",
   "execution_count": 7,
   "id": "732f3a42-2ee4-4fc0-ae1d-ce6cb376d5ba",
   "metadata": {},
   "outputs": [],
   "source": [
    "# init object\n",
    "traffic_network = TrafficNetwork(\n",
    "    network_links=df_links_raw.copy(),\n",
    "    network_nodes=df_nodes_raw.copy(),\n",
    "    tazs=taz_centriod_nodes.copy(),\n",
    ")"
   ]
  },
  {
   "cell_type": "code",
   "execution_count": 8,
   "id": "a72e9f76-41dd-4779-a3b9-efd5221624e6",
   "metadata": {},
   "outputs": [],
   "source": [
    "traffic_network.get_taz_id_list()\n",
    "traffic_network.convert_abm_links()\n",
    "traffic_network.build_network()"
   ]
  },
  {
   "cell_type": "code",
   "execution_count": 9,
   "id": "72d6a626-ee63-4163-8301-2380f9cc71bf",
   "metadata": {},
   "outputs": [],
   "source": [
    "taz_lst = traffic_network.prepare_taz_lists(chunk_size=100)"
   ]
  },
  {
   "cell_type": "code",
   "execution_count": 12,
   "id": "9fc57b03-90ae-4787-aefe-db1d9257b518",
   "metadata": {},
   "outputs": [],
   "source": [
    "network_dict = traffic_network.network_dict\n",
    "destination_lst = traffic_network.tazs_ids\n",
    "taz_lst = traffic_network.prepare_taz_lists(chunk_size=100)\n",
    "task_inputs = [\n",
    "    (network_dict, destination_lst, taz)\n",
    "    for taz in taz_lst\n",
    "]"
   ]
  },
  {
   "cell_type": "code",
   "execution_count": 13,
   "id": "a98a442a-4908-427c-ae28-3c0657187e57",
   "metadata": {},
   "outputs": [
    {
     "data": {
      "text/plain": [
       "<networkx.classes.digraph.DiGraph at 0x29fe2b350>"
      ]
     },
     "execution_count": 13,
     "metadata": {},
     "output_type": "execute_result"
    }
   ],
   "source": [
    "network_dict[\"DG\"]"
   ]
  },
  {
   "cell_type": "code",
   "execution_count": 14,
   "id": "a78e9e3d-41cd-486b-b568-94695a719630",
   "metadata": {},
   "outputs": [
    {
     "data": {
      "text/plain": [
       "5873"
      ]
     },
     "execution_count": 14,
     "metadata": {},
     "output_type": "execute_result"
    }
   ],
   "source": [
    "len(destination_lst)"
   ]
  },
  {
   "cell_type": "code",
   "execution_count": 15,
   "id": "1aee61f9-4f54-4926-b2b9-2336499e8101",
   "metadata": {},
   "outputs": [
    {
     "name": "stdout",
     "output_type": "stream",
     "text": [
      "Finished searching 101 tazs\n",
      "Finished searching 101 tazs\n",
      "Finished searching 101 tazs\n",
      "Finished searching 101 tazs\n",
      "Finished searching 101 tazs\n",
      "Finished searching 101 tazs\n",
      "Finished searching 101 tazs\n",
      "Finished searching 101 tazs\n",
      "Finished searching 101 tazs\n",
      "Finished searching 101 tazs\n",
      "Finished searching 101 tazs\n",
      "Finished searching 101 tazs\n",
      "Finished searching 101 tazs\n",
      "Finished searching 101 tazs\n",
      "Finished searching 101 tazs\n",
      "Finished searching 101 tazs\n",
      "Finished searching 101 tazs\n",
      "Finished searching 101 tazs\n",
      "Finished searching 101 tazs\n",
      "Finished searching 101 tazs\n",
      "Finished searching 101 tazs\n",
      "Finished searching 101 tazs\n",
      "Finished searching 101 tazs\n",
      "Finished searching 101 tazs\n",
      "Finished searching 101 tazs\n",
      "Finished searching 101 tazs\n",
      "Finished searching 101 tazs\n",
      "Finished searching 101 tazs\n",
      "Finished searching 101 tazs\n",
      "Finished searching 101 tazs\n",
      "Finished searching 101 tazs\n",
      "Finished searching 101 tazs\n",
      "Finished searching 101 tazs\n",
      "Finished searching 101 tazs\n",
      "Finished searching 101 tazs\n",
      "Finished searching 101 tazs\n",
      "Finished searching 101 tazs\n",
      "Finished searching 101 tazs\n",
      "Finished searching 101 tazs\n",
      "Finished searching 101 tazs\n",
      "Finished searching 101 tazs\n",
      "Finished searching 101 tazs\n",
      "Finished searching 101 tazs\n",
      "Finished searching 101 tazs\n",
      "Finished searching 101 tazs\n",
      "Finished searching 101 tazs\n",
      "Finished searching 101 tazs\n",
      "Finished searching 101 tazs\n",
      "Finished searching 101 tazs\n",
      "Finished searching 101 tazs\n",
      "Finished searching 101 tazs\n",
      "Finished searching 101 tazs\n",
      "Finished searching 101 tazs\n",
      "Finished searching 101 tazs\n",
      "Finished searching 101 tazs\n",
      "Finished searching 101 tazs\n",
      "Finished searching 101 tazs\n",
      "Finished searching 73 tazs\n",
      "Finished searching 101 tazs\n",
      "It takes 6.6 minutes to finish the run\n"
     ]
    }
   ],
   "source": [
    "t0 = time.perf_counter()\n",
    "results = None\n",
    "with multiprocess.Pool(NUM_PROCESSES) as pool:\n",
    "    results = pool.starmap(get_shortest_paths, task_inputs)\n",
    "\n",
    "d1 = time.perf_counter() - t0\n",
    "print(f'It takes {d1/60:.1f} minutes to finish the run')"
   ]
  },
  {
   "cell_type": "markdown",
   "id": "c61eb2f9-b3ab-42c6-89c1-ae620d15722e",
   "metadata": {},
   "source": [
    "## Store results in a database"
   ]
  },
  {
   "cell_type": "code",
   "execution_count": 44,
   "id": "78aa741a-cb3b-424f-b840-93c25b2d58dd",
   "metadata": {},
   "outputs": [],
   "source": [
    "# create database connection\n",
    "from carpoolsim.database.prepare_database import batch_store_from_lst\n",
    "\n",
    "from sqlalchemy import create_engine"
   ]
  },
  {
   "cell_type": "code",
   "execution_count": 45,
   "id": "64464bc1-5831-48cc-bc54-9cf8efa6ac38",
   "metadata": {},
   "outputs": [
    {
     "name": "stdout",
     "output_type": "stream",
     "text": [
      "successfully connected\n"
     ]
    }
   ],
   "source": [
    "engine = create_engine(DB_URL)\n",
    "\n",
    "with engine.connect() as connection:\n",
    "    print('successfully connected')"
   ]
  },
  {
   "cell_type": "code",
   "execution_count": null,
   "id": "c1b0af27-4716-4d2f-a3f0-d319d2855a8a",
   "metadata": {},
   "outputs": [
    {
     "name": "stdout",
     "output_type": "stream",
     "text": [
      "sqlite engine created\n"
     ]
    }
   ],
   "source": [
    "batch_store_from_lst(results, DB_URL)"
   ]
  },
  {
   "cell_type": "code",
   "execution_count": null,
   "id": "c9449745-8fd6-492d-b7be-55e7ff73d23f",
   "metadata": {},
   "outputs": [],
   "source": []
  },
  {
   "cell_type": "code",
   "execution_count": null,
   "id": "6621e0f8-b66a-49fc-9ba2-d68ff6461676",
   "metadata": {},
   "outputs": [],
   "source": []
  }
 ],
 "metadata": {
  "kernelspec": {
   "display_name": "Python 3 (ipykernel)",
   "language": "python",
   "name": "python3"
  },
  "language_info": {
   "codemirror_mode": {
    "name": "ipython",
    "version": 3
   },
   "file_extension": ".py",
   "mimetype": "text/x-python",
   "name": "python",
   "nbconvert_exporter": "python",
   "pygments_lexer": "ipython3",
   "version": "3.12.2"
  }
 },
 "nbformat": 4,
 "nbformat_minor": 5
}
