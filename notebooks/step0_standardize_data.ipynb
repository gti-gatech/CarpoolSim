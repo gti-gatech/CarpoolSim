{
 "cells": [
  {
   "cell_type": "markdown",
   "id": "12bc0047-79d5-49e4-90f2-9a52c057ae0b",
   "metadata": {},
   "source": [
    "# Convert to a standardized version of dataframe\n",
    "\n",
    "A converter to convert data frame to a standard format for carpoolsim:\n",
    "1. Traffic network links\n",
    "2. Traffic network nodes\n",
    "3. Traffic TAZs (polygons)\n",
    "4. Traffic demands "
   ]
  },
  {
   "cell_type": "code",
   "execution_count": null,
   "id": "f395fea4-7d3f-4387-b000-594cb3fdcbd2",
   "metadata": {},
   "outputs": [],
   "source": []
  },
  {
   "cell_type": "code",
   "execution_count": null,
   "id": "67c212f7-4bc0-4785-b221-84b64efbbd90",
   "metadata": {},
   "outputs": [],
   "source": []
  },
  {
   "cell_type": "code",
   "execution_count": null,
   "id": "534b4246-1ef4-492c-89f5-2d5d58afc303",
   "metadata": {},
   "outputs": [],
   "source": []
  },
  {
   "cell_type": "code",
   "execution_count": null,
   "id": "c4174c92-8c9a-4dd1-a354-daaaceb33f1c",
   "metadata": {},
   "outputs": [],
   "source": []
  },
  {
   "cell_type": "code",
   "execution_count": null,
   "id": "7751f5f7-e25a-4977-a69d-3de29d07e304",
   "metadata": {},
   "outputs": [],
   "source": []
  },
  {
   "cell_type": "code",
   "execution_count": null,
   "id": "aa968700-cb2e-40e7-ac4d-2dd6964239c5",
   "metadata": {},
   "outputs": [],
   "source": []
  },
  {
   "cell_type": "code",
   "execution_count": null,
   "id": "c22bf938-bc2a-42c8-acc6-72a9f99e1394",
   "metadata": {},
   "outputs": [],
   "source": []
  },
  {
   "cell_type": "code",
   "execution_count": null,
   "id": "81519b88-42b5-4677-a626-a1492159894f",
   "metadata": {},
   "outputs": [],
   "source": []
  },
  {
   "cell_type": "code",
   "execution_count": null,
   "id": "737b2622-74a5-411b-9923-82abee85d3c4",
   "metadata": {},
   "outputs": [],
   "source": []
  },
  {
   "cell_type": "code",
   "execution_count": null,
   "id": "0347f9d2-07bb-4c23-a1b5-852ad555b67a",
   "metadata": {},
   "outputs": [],
   "source": []
  },
  {
   "cell_type": "code",
   "execution_count": null,
   "id": "38f8fade-0da3-49a4-bf67-c9e027c2b03a",
   "metadata": {},
   "outputs": [],
   "source": []
  },
  {
   "cell_type": "code",
   "execution_count": null,
   "id": "48f19dd6-6bc8-4322-a720-135c34a30964",
   "metadata": {},
   "outputs": [],
   "source": []
  },
  {
   "cell_type": "code",
   "execution_count": null,
   "id": "589b4a3d-a38a-45d9-975f-fef37b7e8060",
   "metadata": {},
   "outputs": [],
   "source": []
  },
  {
   "cell_type": "code",
   "execution_count": null,
   "id": "33b0e067-6f5a-4d13-8bab-2f49a75f50b5",
   "metadata": {},
   "outputs": [],
   "source": []
  },
  {
   "cell_type": "code",
   "execution_count": null,
   "id": "b49d5148-d0c8-434b-a7e6-69d4c9e5bf07",
   "metadata": {},
   "outputs": [],
   "source": []
  },
  {
   "cell_type": "code",
   "execution_count": null,
   "id": "6688cdde-649e-4bae-91bf-e407425b5fa5",
   "metadata": {},
   "outputs": [],
   "source": []
  },
  {
   "cell_type": "code",
   "execution_count": null,
   "id": "eb11e6b3-816c-4d76-852e-79690e6bbd49",
   "metadata": {},
   "outputs": [],
   "source": []
  },
  {
   "cell_type": "code",
   "execution_count": null,
   "id": "a03c540b-9c68-4000-af8e-7013d71f4b8a",
   "metadata": {},
   "outputs": [],
   "source": []
  }
 ],
 "metadata": {
  "kernelspec": {
   "display_name": "Python 3 (ipykernel)",
   "language": "python",
   "name": "python3"
  },
  "language_info": {
   "codemirror_mode": {
    "name": "ipython",
    "version": 3
   },
   "file_extension": ".py",
   "mimetype": "text/x-python",
   "name": "python",
   "nbconvert_exporter": "python",
   "pygments_lexer": "ipython3",
   "version": "3.12.2"
  }
 },
 "nbformat": 4,
 "nbformat_minor": 5
}
