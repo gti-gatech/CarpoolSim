{
 "cells": [
  {
   "cell_type": "markdown",
   "id": "0d58f001-f312-4706-9cce-60df9f0ee0ec",
   "metadata": {},
   "source": [
    "## Prepare path retention\n",
    "\n",
    "Remember the paths between each pair of TAZ centroids.\n",
    "\n",
    "For example, if you have 1000 TAZs, there will be $1000 \\times 1000 = 1\\_000\\_000$ (one million) OD pairs.\n",
    "\n",
    "The shortest travel paths between ODs are pretrained and pre-computed in a database to record\n",
    "- The shortest paths between each OD pair\n",
    "- The shortest travel distance between each OD pair"
   ]
  },
  {
   "cell_type": "code",
   "execution_count": 1,
   "id": "51691e75-0f04-4f16-906f-d075ad5c6341",
   "metadata": {},
   "outputs": [],
   "source": [
    "import time\n",
    "import copy\n",
    "import os\n",
    "import sys\n",
    "\n",
    "import numpy as np\n",
    "import pandas as pd\n",
    "import geopandas as gpd\n",
    "import multiprocess\n",
    "\n",
    "%load_ext autoreload\n",
    "%autoreload 2\n",
    "pd.options.display.max_columns = None  # display all columns"
   ]
  },
  {
   "cell_type": "code",
   "execution_count": 2,
   "id": "a16577c6-1f0e-48c6-9f95-f32edd4e607d",
   "metadata": {},
   "outputs": [],
   "source": [
    "from carpoolsim.basic_settings import *\n",
    "\n",
    "from carpoolsim.prepare_input import (\n",
    "    get_shortest_paths,\n",
    "    TrafficNetwork\n",
    ")"
   ]
  },
  {
   "cell_type": "code",
   "execution_count": 3,
   "id": "d3608000-9b94-4bda-82e2-af9dc14cf510",
   "metadata": {},
   "outputs": [],
   "source": [
    "# need to set this environmental path everytime you moves the project root folder\n",
    "os.environ['project_root'] = '/Users/geekduck/Dropbox/gt_survey'"
   ]
  },
  {
   "cell_type": "code",
   "execution_count": 4,
   "id": "0e6dc95d-93a6-466c-b48f-a6868202432b",
   "metadata": {},
   "outputs": [],
   "source": [
    "# load traffic network data\n",
    "tazs = gpd.read_file(\n",
    "    os.path.join(os.environ['data_inputs'], \"cleaned\", \"tazs.shp\")\n",
    ")\n",
    "df_nodes = gpd.read_file(\n",
    "    os.path.join(os.environ['data_inputs'], \"cleaned\", \"nodes.shp\")\n",
    ")\n",
    "df_links = gpd.read_file(\n",
    "    os.path.join(os.environ['data_inputs'], \"cleaned\", \"links.shp\")\n",
    ")"
   ]
  },
  {
   "cell_type": "code",
   "execution_count": 5,
   "id": "b23b7e2c-c0d2-4fce-8a28-2eec7957ccf3",
   "metadata": {},
   "outputs": [
    {
     "data": {
      "text/plain": [
       "nid           object\n",
       "lon          float64\n",
       "lat          float64\n",
       "x            float64\n",
       "y            float64\n",
       "geometry    geometry\n",
       "dtype: object"
      ]
     },
     "execution_count": 5,
     "metadata": {},
     "output_type": "execute_result"
    }
   ],
   "source": [
    "df_nodes.dtypes"
   ]
  },
  {
   "cell_type": "code",
   "execution_count": 6,
   "id": "5cac6fed-3232-4003-8de0-ed52b159aea3",
   "metadata": {},
   "outputs": [],
   "source": [
    "df_links[\"a\"] = df_links[\"a\"].astype(str)\n",
    "df_links[\"b\"] = df_links[\"b\"].astype(str)\n",
    "df_links[\"a_b\"] = df_links[\"a_b\"].astype(str)\n",
    "\n",
    "df_nodes[\"nid\"] = df_nodes[\"nid\"].astype(str)"
   ]
  },
  {
   "cell_type": "code",
   "execution_count": 7,
   "id": "3f3d49fe-674f-432b-a0c0-2faa80308d67",
   "metadata": {},
   "outputs": [
    {
     "data": {
      "text/html": [
       "<div>\n",
       "<style scoped>\n",
       "    .dataframe tbody tr th:only-of-type {\n",
       "        vertical-align: middle;\n",
       "    }\n",
       "\n",
       "    .dataframe tbody tr th {\n",
       "        vertical-align: top;\n",
       "    }\n",
       "\n",
       "    .dataframe thead th {\n",
       "        text-align: right;\n",
       "    }\n",
       "</style>\n",
       "<table border=\"1\" class=\"dataframe\">\n",
       "  <thead>\n",
       "    <tr style=\"text-align: right;\">\n",
       "      <th></th>\n",
       "      <th>a</th>\n",
       "      <th>b</th>\n",
       "      <th>a_b</th>\n",
       "      <th>name</th>\n",
       "      <th>speed_limi</th>\n",
       "      <th>distance</th>\n",
       "      <th>factype</th>\n",
       "      <th>ax</th>\n",
       "      <th>ay</th>\n",
       "      <th>a_lat</th>\n",
       "      <th>a_lon</th>\n",
       "      <th>bx</th>\n",
       "      <th>by</th>\n",
       "      <th>b_lat</th>\n",
       "      <th>b_lon</th>\n",
       "      <th>minx_sq</th>\n",
       "      <th>miny_sq</th>\n",
       "      <th>maxx_sq</th>\n",
       "      <th>maxy_sq</th>\n",
       "      <th>time</th>\n",
       "      <th>geometry</th>\n",
       "    </tr>\n",
       "  </thead>\n",
       "  <tbody>\n",
       "    <tr>\n",
       "      <th>35537</th>\n",
       "      <td>20432</td>\n",
       "      <td>534</td>\n",
       "      <td>20432_534</td>\n",
       "      <td>None</td>\n",
       "      <td>35.0</td>\n",
       "      <td>0.21349</td>\n",
       "      <td>0</td>\n",
       "      <td>2.240501e+06</td>\n",
       "      <td>1.380088e+06</td>\n",
       "      <td>33.79382</td>\n",
       "      <td>-84.35127</td>\n",
       "      <td>2.239453e+06</td>\n",
       "      <td>1.380504e+06</td>\n",
       "      <td>33.794957</td>\n",
       "      <td>-84.354722</td>\n",
       "      <td>-0.0</td>\n",
       "      <td>0.0</td>\n",
       "      <td>-0.0</td>\n",
       "      <td>0.0</td>\n",
       "      <td>0.006100</td>\n",
       "      <td>LINESTRING (-84.35127 33.79382, -84.35472 33.7...</td>\n",
       "    </tr>\n",
       "    <tr>\n",
       "      <th>67665</th>\n",
       "      <td>80593</td>\n",
       "      <td>74138</td>\n",
       "      <td>80593_74138</td>\n",
       "      <td>Powers Ferry Rd</td>\n",
       "      <td>35.0</td>\n",
       "      <td>0.04427</td>\n",
       "      <td>14</td>\n",
       "      <td>2.226319e+06</td>\n",
       "      <td>1.409645e+06</td>\n",
       "      <td>33.87497</td>\n",
       "      <td>-84.39817</td>\n",
       "      <td>2.226396e+06</td>\n",
       "      <td>1.409425e+06</td>\n",
       "      <td>33.874367</td>\n",
       "      <td>-84.397916</td>\n",
       "      <td>-0.0</td>\n",
       "      <td>0.0</td>\n",
       "      <td>-0.0</td>\n",
       "      <td>0.0</td>\n",
       "      <td>0.001265</td>\n",
       "      <td>LINESTRING (-84.39817 33.87497, -84.39792 33.8...</td>\n",
       "    </tr>\n",
       "  </tbody>\n",
       "</table>\n",
       "</div>"
      ],
      "text/plain": [
       "           a      b          a_b             name  speed_limi  distance  \\\n",
       "35537  20432    534    20432_534             None        35.0   0.21349   \n",
       "67665  80593  74138  80593_74138  Powers Ferry Rd        35.0   0.04427   \n",
       "\n",
       "       factype            ax            ay     a_lat     a_lon            bx  \\\n",
       "35537        0  2.240501e+06  1.380088e+06  33.79382 -84.35127  2.239453e+06   \n",
       "67665       14  2.226319e+06  1.409645e+06  33.87497 -84.39817  2.226396e+06   \n",
       "\n",
       "                 by      b_lat      b_lon  minx_sq  miny_sq  maxx_sq  maxy_sq  \\\n",
       "35537  1.380504e+06  33.794957 -84.354722     -0.0      0.0     -0.0      0.0   \n",
       "67665  1.409425e+06  33.874367 -84.397916     -0.0      0.0     -0.0      0.0   \n",
       "\n",
       "           time                                           geometry  \n",
       "35537  0.006100  LINESTRING (-84.35127 33.79382, -84.35472 33.7...  \n",
       "67665  0.001265  LINESTRING (-84.39817 33.87497, -84.39792 33.8...  "
      ]
     },
     "execution_count": 7,
     "metadata": {},
     "output_type": "execute_result"
    }
   ],
   "source": [
    "df_links.sample(2)"
   ]
  },
  {
   "cell_type": "code",
   "execution_count": 8,
   "id": "732f3a42-2ee4-4fc0-ae1d-ce6cb376d5ba",
   "metadata": {},
   "outputs": [],
   "source": [
    "# init object\n",
    "traffic_network = TrafficNetwork(\n",
    "    network_links=df_links.copy(),\n",
    "    network_nodes=df_nodes.copy(),\n",
    "    tazs=tazs.copy(),\n",
    ")"
   ]
  },
  {
   "cell_type": "code",
   "execution_count": 9,
   "id": "a72e9f76-41dd-4779-a3b9-efd5221624e6",
   "metadata": {},
   "outputs": [],
   "source": [
    "traffic_network.get_taz_id_list()\n",
    "traffic_network.convert_abm_links()\n",
    "traffic_network.build_network()"
   ]
  },
  {
   "cell_type": "code",
   "execution_count": 10,
   "id": "b7e33f9e-0e35-46cf-9b8b-c91ce4a2298b",
   "metadata": {},
   "outputs": [],
   "source": [
    "# load processed network to a new place...\n",
    "traffic_network.gdf_nodes.to_file(\n",
    "    os.path.join(\n",
    "        os.environ['data_inputs'], \n",
    "        \"cleaned\", \n",
    "        \"nodes.shp\"\n",
    "    ),\n",
    ")\n",
    "traffic_network.gdf_links.to_file(\n",
    "    os.path.join(\n",
    "        os.environ['data_inputs'], \n",
    "        \"cleaned\", \n",
    "        \"links.shp\"\n",
    "    ),\n",
    ")\n",
    "traffic_network.tazs.to_file(\n",
    "    os.path.join(\n",
    "        os.environ['data_inputs'], \n",
    "        \"cleaned\", \n",
    "        \"tazs.shp\"\n",
    "    ),\n",
    ")"
   ]
  },
  {
   "cell_type": "markdown",
   "id": "fac846ac-6e48-46d2-a50a-13d54179bee5",
   "metadata": {},
   "source": [
    "## Prepare dataset for shortest paths between any pair of TAZ origin/destination."
   ]
  },
  {
   "cell_type": "code",
   "execution_count": 11,
   "id": "9fc57b03-90ae-4787-aefe-db1d9257b518",
   "metadata": {},
   "outputs": [],
   "source": [
    "network_dict = traffic_network.network_dict\n",
    "destination_lst = traffic_network.tazs_ids\n",
    "taz_lst = traffic_network.prepare_taz_lists(chunk_size=100)\n",
    "task_inputs = [\n",
    "    (network_dict, destination_lst, taz)\n",
    "    for taz in taz_lst\n",
    "]"
   ]
  },
  {
   "cell_type": "code",
   "execution_count": 12,
   "id": "2374beaa-0808-41b9-b54f-bc02d3033eba",
   "metadata": {},
   "outputs": [
    {
     "data": {
      "text/plain": [
       "12"
      ]
     },
     "execution_count": 12,
     "metadata": {},
     "output_type": "execute_result"
    }
   ],
   "source": [
    "NUM_PROCESSES"
   ]
  },
  {
   "cell_type": "code",
   "execution_count": 13,
   "id": "1aee61f9-4f54-4926-b2b9-2336499e8101",
   "metadata": {},
   "outputs": [
    {
     "name": "stdout",
     "output_type": "stream",
     "text": [
      "Finished searching 100 tazs\n",
      "Finished searching 100 tazs\n",
      "Finished searching 100 tazs\n",
      "Finished searching 100 tazs\n",
      "Finished searching 100 tazs\n",
      "Finished searching 100 tazs\n",
      "Finished searching 100 tazs\n",
      "Finished searching 100 tazs\n",
      "Finished searching 100 tazs\n",
      "Finished searching 100 tazs\n",
      "Finished searching 100 tazs\n",
      "Finished searching 100 tazs\n",
      "Finished searching 100 tazs\n",
      "Finished searching 100 tazs\n",
      "Finished searching 100 tazs\n",
      "Finished searching 100 tazs\n",
      "Finished searching 100 tazs\n",
      "Finished searching 100 tazs\n",
      "Finished searching 100 tazs\n",
      "Finished searching 100 tazs\n",
      "Finished searching 100 tazs\n",
      "Finished searching 100 tazs\n",
      "Finished searching 100 tazs\n",
      "Finished searching 100 tazs\n",
      "Finished searching 100 tazs\n",
      "Finished searching 100 tazs\n",
      "Finished searching 100 tazs\n",
      "Finished searching 100 tazs\n",
      "Finished searching 100 tazs\n",
      "Finished searching 100 tazs\n",
      "Finished searching 100 tazs\n",
      "Finished searching 100 tazs\n",
      "Finished searching 100 tazs\n",
      "Finished searching 100 tazs\n",
      "Finished searching 100 tazs\n",
      "Finished searching 100 tazs\n",
      "Finished searching 100 tazs\n",
      "Finished searching 100 tazs\n",
      "Finished searching 100 tazs\n",
      "Finished searching 100 tazs\n",
      "Finished searching 100 tazs\n",
      "Finished searching 100 tazs\n",
      "Finished searching 100 tazs\n",
      "Finished searching 100 tazs\n",
      "Finished searching 100 tazs\n",
      "Finished searching 100 tazs\n",
      "Finished searching 100 tazs\n",
      "Finished searching 100 tazs\n",
      "Finished searching 100 tazs\n",
      "Finished searching 100 tazs\n",
      "Finished searching 100 tazs\n",
      "Finished searching 100 tazs\n",
      "Finished searching 100 tazs\n",
      "Finished searching 100 tazs\n",
      "Finished searching 100 tazs\n",
      "Finished searching 100 tazs\n",
      "Finished searching 100 tazs\n",
      "Finished searching 73 tazs\n",
      "Finished searching 100 tazs\n",
      "It takes 6.0 minutes to finish the run\n"
     ]
    }
   ],
   "source": [
    "t0 = time.perf_counter()\n",
    "results = None\n",
    "with multiprocess.Pool(NUM_PROCESSES) as pool:\n",
    "    results = pool.starmap(get_shortest_paths, task_inputs)\n",
    "\n",
    "d1 = time.perf_counter() - t0\n",
    "print(f'It takes {d1/60:.1f} minutes to finish the run')"
   ]
  },
  {
   "cell_type": "markdown",
   "id": "c61eb2f9-b3ab-42c6-89c1-ae620d15722e",
   "metadata": {},
   "source": [
    "## Store results in a database\n",
    "Just store results in the sqlite database. Results are in the file \"data_inputs/path_retention1.db\""
   ]
  },
  {
   "cell_type": "code",
   "execution_count": 16,
   "id": "78aa741a-cb3b-424f-b840-93c25b2d58dd",
   "metadata": {},
   "outputs": [],
   "source": [
    "# create database connection\n",
    "from carpoolsim.database.prepare_database import batch_store_from_lst"
   ]
  },
  {
   "cell_type": "code",
   "execution_count": 18,
   "id": "b61b05ad-1f30-4b91-b89f-a2bab0ccd83c",
   "metadata": {},
   "outputs": [
    {
     "data": {
      "text/plain": [
       "59"
      ]
     },
     "execution_count": 18,
     "metadata": {},
     "output_type": "execute_result"
    }
   ],
   "source": [
    "len(results)"
   ]
  },
  {
   "cell_type": "code",
   "execution_count": 19,
   "id": "7ada4cca-a1b9-4b5c-8f56-a02ecce7f879",
   "metadata": {},
   "outputs": [
    {
     "name": "stdout",
     "output_type": "stream",
     "text": [
      "sqlite engine created\n",
      "engine successfully connected to the database\n",
      "start feeding data to database! Dataframe shape:  (587300, 2)\n",
      "Appended a whole batch data to the server!\n",
      "start feeding data to database! Dataframe shape:  (587300, 2)\n",
      "Appended a whole batch data to the server!\n",
      "start feeding data to database! Dataframe shape:  (587300, 2)\n",
      "Appended a whole batch data to the server!\n",
      "start feeding data to database! Dataframe shape:  (587300, 2)\n",
      "Appended a whole batch data to the server!\n",
      "start feeding data to database! Dataframe shape:  (587300, 2)\n",
      "Appended a whole batch data to the server!\n",
      "start feeding data to database! Dataframe shape:  (587300, 2)\n",
      "Appended a whole batch data to the server!\n",
      "start feeding data to database! Dataframe shape:  (587300, 2)\n",
      "Appended a whole batch data to the server!\n",
      "start feeding data to database! Dataframe shape:  (587300, 2)\n",
      "Appended a whole batch data to the server!\n",
      "start feeding data to database! Dataframe shape:  (587300, 2)\n",
      "Appended a whole batch data to the server!\n",
      "start feeding data to database! Dataframe shape:  (587300, 2)\n",
      "Appended a whole batch data to the server!\n",
      "start feeding data to database! Dataframe shape:  (587300, 2)\n",
      "Appended a whole batch data to the server!\n",
      "start feeding data to database! Dataframe shape:  (587300, 2)\n",
      "Appended a whole batch data to the server!\n",
      "start feeding data to database! Dataframe shape:  (587300, 2)\n",
      "Appended a whole batch data to the server!\n",
      "start feeding data to database! Dataframe shape:  (587300, 2)\n",
      "Appended a whole batch data to the server!\n",
      "start feeding data to database! Dataframe shape:  (587300, 2)\n",
      "Appended a whole batch data to the server!\n",
      "start feeding data to database! Dataframe shape:  (587300, 2)\n",
      "Appended a whole batch data to the server!\n",
      "start feeding data to database! Dataframe shape:  (587300, 2)\n",
      "Appended a whole batch data to the server!\n",
      "start feeding data to database! Dataframe shape:  (587300, 2)\n",
      "Appended a whole batch data to the server!\n",
      "start feeding data to database! Dataframe shape:  (587300, 2)\n",
      "Appended a whole batch data to the server!\n",
      "start feeding data to database! Dataframe shape:  (587300, 2)\n",
      "Appended a whole batch data to the server!\n",
      "start feeding data to database! Dataframe shape:  (587300, 2)\n",
      "Appended a whole batch data to the server!\n",
      "start feeding data to database! Dataframe shape:  (587300, 2)\n",
      "Appended a whole batch data to the server!\n",
      "start feeding data to database! Dataframe shape:  (587300, 2)\n",
      "Appended a whole batch data to the server!\n",
      "start feeding data to database! Dataframe shape:  (587300, 2)\n",
      "Appended a whole batch data to the server!\n",
      "start feeding data to database! Dataframe shape:  (587300, 2)\n",
      "Appended a whole batch data to the server!\n",
      "start feeding data to database! Dataframe shape:  (587300, 2)\n",
      "Appended a whole batch data to the server!\n",
      "start feeding data to database! Dataframe shape:  (587300, 2)\n",
      "Appended a whole batch data to the server!\n",
      "start feeding data to database! Dataframe shape:  (587300, 2)\n",
      "Appended a whole batch data to the server!\n",
      "start feeding data to database! Dataframe shape:  (587300, 2)\n",
      "Appended a whole batch data to the server!\n",
      "start feeding data to database! Dataframe shape:  (587300, 2)\n",
      "Appended a whole batch data to the server!\n",
      "start feeding data to database! Dataframe shape:  (587300, 2)\n",
      "Appended a whole batch data to the server!\n",
      "start feeding data to database! Dataframe shape:  (587300, 2)\n",
      "Appended a whole batch data to the server!\n",
      "start feeding data to database! Dataframe shape:  (587300, 2)\n",
      "Appended a whole batch data to the server!\n",
      "start feeding data to database! Dataframe shape:  (587300, 2)\n",
      "Appended a whole batch data to the server!\n",
      "start feeding data to database! Dataframe shape:  (587300, 2)\n",
      "Appended a whole batch data to the server!\n",
      "start feeding data to database! Dataframe shape:  (587300, 2)\n",
      "Appended a whole batch data to the server!\n",
      "start feeding data to database! Dataframe shape:  (587300, 2)\n",
      "Appended a whole batch data to the server!\n",
      "start feeding data to database! Dataframe shape:  (587300, 2)\n",
      "Appended a whole batch data to the server!\n",
      "start feeding data to database! Dataframe shape:  (587300, 2)\n",
      "Appended a whole batch data to the server!\n",
      "start feeding data to database! Dataframe shape:  (587300, 2)\n",
      "Appended a whole batch data to the server!\n",
      "start feeding data to database! Dataframe shape:  (587300, 2)\n",
      "Appended a whole batch data to the server!\n",
      "start feeding data to database! Dataframe shape:  (587300, 2)\n",
      "Appended a whole batch data to the server!\n",
      "start feeding data to database! Dataframe shape:  (587300, 2)\n",
      "Appended a whole batch data to the server!\n",
      "start feeding data to database! Dataframe shape:  (587300, 2)\n",
      "Appended a whole batch data to the server!\n",
      "start feeding data to database! Dataframe shape:  (587300, 2)\n",
      "Appended a whole batch data to the server!\n",
      "start feeding data to database! Dataframe shape:  (587300, 2)\n",
      "Appended a whole batch data to the server!\n",
      "start feeding data to database! Dataframe shape:  (587300, 2)\n",
      "Appended a whole batch data to the server!\n",
      "start feeding data to database! Dataframe shape:  (587300, 2)\n",
      "Appended a whole batch data to the server!\n",
      "start feeding data to database! Dataframe shape:  (587300, 2)\n",
      "Appended a whole batch data to the server!\n",
      "start feeding data to database! Dataframe shape:  (587300, 2)\n",
      "Appended a whole batch data to the server!\n",
      "start feeding data to database! Dataframe shape:  (587300, 2)\n",
      "Appended a whole batch data to the server!\n",
      "start feeding data to database! Dataframe shape:  (587300, 2)\n",
      "Appended a whole batch data to the server!\n",
      "start feeding data to database! Dataframe shape:  (587300, 2)\n",
      "Appended a whole batch data to the server!\n",
      "start feeding data to database! Dataframe shape:  (587300, 2)\n",
      "Appended a whole batch data to the server!\n",
      "start feeding data to database! Dataframe shape:  (587300, 2)\n",
      "Appended a whole batch data to the server!\n",
      "start feeding data to database! Dataframe shape:  (587300, 2)\n",
      "Appended a whole batch data to the server!\n",
      "start feeding data to database! Dataframe shape:  (587300, 2)\n",
      "Appended a whole batch data to the server!\n",
      "start feeding data to database! Dataframe shape:  (587300, 2)\n",
      "Appended a whole batch data to the server!\n",
      "start feeding data to database! Dataframe shape:  (428729, 2)\n",
      "Appended a whole batch data to the server!\n"
     ]
    }
   ],
   "source": [
    "# If 1_000 TAZs, the dataset contains\n",
    "# 1000 * 1000 = 1_000_000 trip records between them\n",
    "batch_store_from_lst(results, DB_URL)"
   ]
  },
  {
   "cell_type": "markdown",
   "id": "9cc39338-f8d2-49b0-b5f2-0b574365a382",
   "metadata": {},
   "source": [
    "## Try to access the database\n",
    "\n",
    "Those are some APIs to access the path retention dataset and query results."
   ]
  },
  {
   "cell_type": "code",
   "execution_count": 3,
   "id": "c9449745-8fd6-492d-b7be-55e7ff73d23f",
   "metadata": {},
   "outputs": [],
   "source": [
    "from sqlalchemy import create_engine\n",
    "\n",
    "from carpoolsim.database.query_database import (\n",
    "    query_od_info,\n",
    "    execute_sql_command\n",
    ")\n",
    "\n",
    "from carpoolsim.basic_settings import *"
   ]
  },
  {
   "cell_type": "code",
   "execution_count": 4,
   "id": "d6fa9997-f1ba-4108-9605-1d5cc827a6a7",
   "metadata": {},
   "outputs": [],
   "source": [
    "engine = create_engine(DB_URL)"
   ]
  },
  {
   "cell_type": "code",
   "execution_count": 5,
   "id": "6621e0f8-b66a-49fc-9ba2-d68ff6461676",
   "metadata": {},
   "outputs": [
    {
     "name": "stdout",
     "output_type": "stream",
     "text": [
      "('1404', '2820', 10.90411714285714, ['1404', '25495', '1403', '10415', '1402', '65883', '14841', '10304', '81987', '10457', '10459', '14869', '10458', '10467', '10464', '20940', '10469', '10472', '10473', '10479', '83091', '83093', '10474', '13593', '11959', '11960', '83099', '83101', '11961', '14599', '81454', '81455', '14597', '14596', '81451', '36631', '2820'])\n"
     ]
    }
   ],
   "source": [
    "# from TAZ \"1404\" to TAZ \"2820\"\n",
    "results = query_od_info(engine, '1404', '2820')\n",
    "print(results)"
   ]
  },
  {
   "cell_type": "markdown",
   "id": "ddbe637f-199a-46d1-8981-62c24bab0f50",
   "metadata": {},
   "source": [
    "First record:\n",
    "- ('1', '1', 0.0, \"['1']\"):\n",
    "  - from TAZ1 to TAZ1, the distance is zero, the node to use is \"1\"\n",
    "- ('1', '2', 1.6642285714285716, \"['1', '80483', '2']\")\n",
    "  - from TAZ 1 to TAZ 2, the distance is 1.664, the nodes to travel along are \"1\", \"80483\", \"2\""
   ]
  },
  {
   "cell_type": "code",
   "execution_count": 6,
   "id": "aa9ff190-4875-42c5-bd22-14eedd7ce74c",
   "metadata": {},
   "outputs": [
    {
     "data": {
      "text/plain": [
       "[('1', '1', 0.0, \"['1']\"),\n",
       " ('1', '2', 1.6642285714285716, \"['1', '80483', '2']\"),\n",
       " ('1', '3', 1.9914342857142857, \"['1', '65666', '3']\"),\n",
       " ('1', '4', 4.348765714285714, \"['1', '65666', '3', '74491', '4']\"),\n",
       " ('1', '5', 5.66832, \"['1', '65666', '3', '74491', '4', '74487', '5']\")]"
      ]
     },
     "metadata": {},
     "output_type": "display_data"
    }
   ],
   "source": [
    "sql_command = \"SELECT * FROM dists LIMIT 5;\"\n",
    "\n",
    "tot_lines = execute_sql_command(engine, sql_command, mode=\"fetchall\")\n",
    "display(tot_lines)"
   ]
  },
  {
   "cell_type": "code",
   "execution_count": null,
   "id": "acc67c21-fd1a-4d29-9ab3-a3dcdda85193",
   "metadata": {},
   "outputs": [],
   "source": []
  }
 ],
 "metadata": {
  "kernelspec": {
   "display_name": "Python 3 (ipykernel)",
   "language": "python",
   "name": "python3"
  },
  "language_info": {
   "codemirror_mode": {
    "name": "ipython",
    "version": 3
   },
   "file_extension": ".py",
   "mimetype": "text/x-python",
   "name": "python",
   "nbconvert_exporter": "python",
   "pygments_lexer": "ipython3",
   "version": "3.11.4"
  }
 },
 "nbformat": 4,
 "nbformat_minor": 5
}
