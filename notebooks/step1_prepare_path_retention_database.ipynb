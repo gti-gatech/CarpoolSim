{
 "cells": [
  {
   "cell_type": "code",
   "execution_count": 1,
   "id": "51691e75-0f04-4f16-906f-d075ad5c6341",
   "metadata": {},
   "outputs": [],
   "source": [
    "import time\n",
    "import copy\n",
    "import os\n",
    "import sys\n",
    "\n",
    "import numpy as np\n",
    "import pandas as pd\n",
    "import geopandas as gpd\n",
    "import multiprocess\n",
    "\n",
    "# for auto-reloading external modules\n",
    "# see http://stackoverflow.com/questions/1907993/%autoreload-of-modules-in-ipython\n",
    "%load_ext autoreload\n",
    "%autoreload 2\n",
    "pd.options.display.max_columns = None  # display all columns"
   ]
  },
  {
   "cell_type": "code",
   "execution_count": 2,
   "id": "d3608000-9b94-4bda-82e2-af9dc14cf510",
   "metadata": {},
   "outputs": [],
   "source": [
    "# need to set this environmental path everytime you moves the project root folder\n",
    "os.environ['project_root'] = '/Users/geekduck/Dropbox/gt_survey'\n",
    "\n",
    "sys.path.append(\n",
    "    os.environ['project_root']\n",
    ")"
   ]
  },
  {
   "cell_type": "code",
   "execution_count": 3,
   "id": "a16577c6-1f0e-48c6-9f95-f32edd4e607d",
   "metadata": {},
   "outputs": [],
   "source": [
    "from carpoolsim.basic_settings import *\n",
    "\n",
    "from carpoolsim.prepare_input import (\n",
    "    get_shortest_paths,\n",
    "    TrafficNetwork\n",
    ")"
   ]
  },
  {
   "cell_type": "code",
   "execution_count": 13,
   "id": "0e6dc95d-93a6-466c-b48f-a6868202432b",
   "metadata": {},
   "outputs": [],
   "source": [
    "# load traffic network data\n",
    "tazs = gpd.read_file(\n",
    "    os.path.join(os.environ['data_inputs'], \"cleaned\", \"tazs.shp\")\n",
    ")\n",
    "df_nodes = gpd.read_file(\n",
    "    os.path.join(os.environ['data_inputs'], \"cleaned\", \"nodes.shp\")\n",
    ")\n",
    "df_links = gpd.read_file(\n",
    "    os.path.join(os.environ['data_inputs'], \"cleaned\", \"links.shp\")\n",
    ")"
   ]
  },
  {
   "cell_type": "code",
   "execution_count": 17,
   "id": "732f3a42-2ee4-4fc0-ae1d-ce6cb376d5ba",
   "metadata": {},
   "outputs": [],
   "source": [
    "# init object\n",
    "traffic_network = TrafficNetwork(\n",
    "    network_links=df_links.copy(),\n",
    "    network_nodes=df_nodes.copy(),\n",
    "    tazs=tazs.copy(),\n",
    ")"
   ]
  },
  {
   "cell_type": "code",
   "execution_count": 18,
   "id": "a72e9f76-41dd-4779-a3b9-efd5221624e6",
   "metadata": {},
   "outputs": [],
   "source": [
    "traffic_network.get_taz_id_list()\n",
    "traffic_network.convert_abm_links()\n",
    "traffic_network.build_network()"
   ]
  },
  {
   "cell_type": "code",
   "execution_count": 19,
   "id": "9fc57b03-90ae-4787-aefe-db1d9257b518",
   "metadata": {},
   "outputs": [],
   "source": [
    "network_dict = traffic_network.network_dict\n",
    "destination_lst = traffic_network.tazs_ids\n",
    "taz_lst = traffic_network.prepare_taz_lists(chunk_size=100)\n",
    "task_inputs = [\n",
    "    (network_dict, destination_lst, taz)\n",
    "    for taz in taz_lst\n",
    "]"
   ]
  },
  {
   "cell_type": "code",
   "execution_count": 20,
   "id": "1aee61f9-4f54-4926-b2b9-2336499e8101",
   "metadata": {},
   "outputs": [
    {
     "name": "stdout",
     "output_type": "stream",
     "text": [
      "Finished searching 100 tazs\n",
      "Finished searching 100 tazs\n",
      "Finished searching 100 tazs\n",
      "Finished searching 100 tazs\n",
      "Finished searching 100 tazs\n",
      "Finished searching 100 tazs\n",
      "Finished searching 100 tazs\n",
      "Finished searching 100 tazs\n",
      "Finished searching 100 tazs\n",
      "Finished searching 100 tazs\n",
      "Finished searching 100 tazs\n",
      "Finished searching 100 tazs\n",
      "Finished searching 100 tazs\n",
      "Finished searching 100 tazs\n",
      "Finished searching 100 tazs\n",
      "Finished searching 100 tazs\n",
      "Finished searching 100 tazs\n",
      "Finished searching 100 tazs\n",
      "Finished searching 100 tazs\n",
      "Finished searching 100 tazs\n",
      "Finished searching 100 tazs\n",
      "Finished searching 100 tazs\n",
      "Finished searching 100 tazs\n",
      "Finished searching 100 tazs\n",
      "Finished searching 100 tazs\n",
      "Finished searching 100 tazs\n",
      "Finished searching 100 tazs\n",
      "Finished searching 100 tazs\n",
      "Finished searching 100 tazs\n",
      "Finished searching 100 tazs\n",
      "Finished searching 100 tazs\n",
      "Finished searching 100 tazs\n",
      "Finished searching 100 tazs\n",
      "Finished searching 100 tazs\n",
      "Finished searching 100 tazs\n",
      "Finished searching 100 tazs\n",
      "Finished searching 100 tazs\n",
      "Finished searching 100 tazs\n",
      "Finished searching 100 tazs\n",
      "Finished searching 100 tazs\n",
      "Finished searching 100 tazs\n",
      "Finished searching 100 tazs\n",
      "Finished searching 100 tazs\n",
      "Finished searching 100 tazs\n",
      "Finished searching 100 tazs\n",
      "Finished searching 100 tazs\n",
      "Finished searching 100 tazs\n",
      "Finished searching 100 tazs\n",
      "Finished searching 100 tazs\n",
      "Finished searching 100 tazs\n",
      "Finished searching 100 tazs\n",
      "Finished searching 100 tazs\n",
      "Finished searching 100 tazs\n",
      "Finished searching 100 tazs\n",
      "Finished searching 100 tazs\n",
      "Finished searching 100 tazs\n",
      "Finished searching 100 tazs\n",
      "Finished searching 73 tazs\n",
      "Finished searching 100 tazs\n",
      "It takes 5.7 minutes to finish the run\n"
     ]
    }
   ],
   "source": [
    "t0 = time.perf_counter()\n",
    "results = None\n",
    "with multiprocess.Pool(NUM_PROCESSES) as pool:\n",
    "    results = pool.starmap(get_shortest_paths, task_inputs)\n",
    "\n",
    "d1 = time.perf_counter() - t0\n",
    "print(f'It takes {d1/60:.1f} minutes to finish the run')"
   ]
  },
  {
   "cell_type": "markdown",
   "id": "c61eb2f9-b3ab-42c6-89c1-ae620d15722e",
   "metadata": {},
   "source": [
    "## Store results in a database"
   ]
  },
  {
   "cell_type": "code",
   "execution_count": 23,
   "id": "78aa741a-cb3b-424f-b840-93c25b2d58dd",
   "metadata": {},
   "outputs": [],
   "source": [
    "# create database connection\n",
    "from carpoolsim.database.prepare_database import batch_store_from_lst"
   ]
  },
  {
   "cell_type": "code",
   "execution_count": null,
   "id": "c1b0af27-4716-4d2f-a3f0-d319d2855a8a",
   "metadata": {},
   "outputs": [
    {
     "name": "stdout",
     "output_type": "stream",
     "text": [
      "sqlite engine created\n",
      "engine successfully connectedd to the database\n",
      "start feeding data to database! Dataframe shape:  (587300, 2)\n",
      "Appended a whole batch data to the server!\n",
      "start feeding data to database! Dataframe shape:  (587300, 2)\n",
      "Appended a whole batch data to the server!\n",
      "start feeding data to database! Dataframe shape:  (587300, 2)\n",
      "Appended a whole batch data to the server!\n",
      "start feeding data to database! Dataframe shape:  (587300, 2)\n"
     ]
    }
   ],
   "source": [
    "batch_store_from_lst(results, DB_URL)"
   ]
  },
  {
   "cell_type": "markdown",
   "id": "9cc39338-f8d2-49b0-b5f2-0b574365a382",
   "metadata": {},
   "source": [
    "## Try to access the database\n",
    "\n",
    "Those are some tools to access the dataset and query results"
   ]
  },
  {
   "cell_type": "code",
   "execution_count": null,
   "id": "c9449745-8fd6-492d-b7be-55e7ff73d23f",
   "metadata": {},
   "outputs": [],
   "source": [
    "from sqlalchemy import create_engine\n",
    "\n",
    "from core_script.database.query_database import (\n",
    "    query_od_info,\n",
    "    execute_sql_command\n",
    ")"
   ]
  },
  {
   "cell_type": "code",
   "execution_count": null,
   "id": "d6fa9997-f1ba-4108-9605-1d5cc827a6a7",
   "metadata": {},
   "outputs": [],
   "source": [
    "engine = create_engine(DB_URL)"
   ]
  },
  {
   "cell_type": "code",
   "execution_count": null,
   "id": "6621e0f8-b66a-49fc-9ba2-d68ff6461676",
   "metadata": {},
   "outputs": [],
   "source": [
    "# from TAZ \"1404\" to TAZ \"2820\"\n",
    "results = query_od_info(engine, '1404', '2820')\n",
    "print(results)"
   ]
  },
  {
   "cell_type": "code",
   "execution_count": null,
   "id": "aa9ff190-4875-42c5-bd22-14eedd7ce74c",
   "metadata": {},
   "outputs": [],
   "source": [
    "sql_command = \"SELECT * FROM dists LIMIT 5;\"\n",
    "\n",
    "tot_lines = execute_sql_command(engine, sql_command, mode=\"fetchall\")\n",
    "display(tot_lines)"
   ]
  },
  {
   "cell_type": "code",
   "execution_count": null,
   "id": "31f7c120-3820-4021-8f0f-fee0680c5c3f",
   "metadata": {},
   "outputs": [],
   "source": []
  },
  {
   "cell_type": "code",
   "execution_count": null,
   "id": "e502f2b1-6c8e-4409-9734-a8c01d54eb09",
   "metadata": {},
   "outputs": [],
   "source": []
  },
  {
   "cell_type": "code",
   "execution_count": null,
   "id": "acc67c21-fd1a-4d29-9ab3-a3dcdda85193",
   "metadata": {},
   "outputs": [],
   "source": []
  }
 ],
 "metadata": {
  "kernelspec": {
   "display_name": "Python 3 (ipykernel)",
   "language": "python",
   "name": "python3"
  },
  "language_info": {
   "codemirror_mode": {
    "name": "ipython",
    "version": 3
   },
   "file_extension": ".py",
   "mimetype": "text/x-python",
   "name": "python",
   "nbconvert_exporter": "python",
   "pygments_lexer": "ipython3",
   "version": "3.12.2"
  }
 },
 "nbformat": 4,
 "nbformat_minor": 5
}
