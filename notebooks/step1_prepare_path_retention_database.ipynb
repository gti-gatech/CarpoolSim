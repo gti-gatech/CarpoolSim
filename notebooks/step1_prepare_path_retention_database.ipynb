{
 "cells": [
  {
   "cell_type": "code",
   "execution_count": 10,
   "id": "51691e75-0f04-4f16-906f-d075ad5c6341",
   "metadata": {},
   "outputs": [
    {
     "name": "stdout",
     "output_type": "stream",
     "text": [
      "The autoreload extension is already loaded. To reload it, use:\n",
      "  %reload_ext autoreload\n"
     ]
    }
   ],
   "source": [
    "import time\n",
    "import copy\n",
    "import os\n",
    "import sys\n",
    "\n",
    "import numpy as np\n",
    "import pandas as pd\n",
    "import geopandas as gpd\n",
    "import multiprocess\n",
    "\n",
    "# for auto-reloading external modules\n",
    "# see http://stackoverflow.com/questions/1907993/%autoreload-of-modules-in-ipython\n",
    "%load_ext autoreload\n",
    "%autoreload 2\n",
    "pd.options.display.max_columns = None  # display all columns"
   ]
  },
  {
   "cell_type": "code",
   "execution_count": 11,
   "id": "d3608000-9b94-4bda-82e2-af9dc14cf510",
   "metadata": {},
   "outputs": [],
   "source": [
    "# need to set this environmental path everytime you moves the project root folder\n",
    "os.environ['project_root'] = '/Users/geekduck/Dropbox/gt_survey'\n",
    "\n",
    "sys.path.append(os.environ['project_root'])"
   ]
  },
  {
   "cell_type": "code",
   "execution_count": 12,
   "id": "a16577c6-1f0e-48c6-9f95-f32edd4e607d",
   "metadata": {},
   "outputs": [],
   "source": [
    "from carpoolsim.basic_settings import *\n",
    "\n",
    "from carpoolsim.prepare_input import (\n",
    "    get_shortest_paths,\n",
    "    TrafficNetwork\n",
    ")"
   ]
  },
  {
   "cell_type": "code",
   "execution_count": 13,
   "id": "0e6dc95d-93a6-466c-b48f-a6868202432b",
   "metadata": {},
   "outputs": [],
   "source": [
    "# load traffic network data\n",
    "tazs = gpd.read_file(\n",
    "    os.path.join(os.environ['data_inputs'], \"cleaned\", \"tazs.shp\")\n",
    ")\n",
    "df_nodes = gpd.read_file(\n",
    "    os.path.join(os.environ['data_inputs'], \"cleaned\", \"nodes.shp\")\n",
    ")\n",
    "df_links = gpd.read_file(\n",
    "    os.path.join(os.environ['data_inputs'], \"cleaned\", \"links.shp\")\n",
    ")"
   ]
  },
  {
   "cell_type": "code",
   "execution_count": 14,
   "id": "b23b7e2c-c0d2-4fce-8a28-2eec7957ccf3",
   "metadata": {},
   "outputs": [
    {
     "data": {
      "text/plain": [
       "nid            int64\n",
       "lon          float64\n",
       "lat          float64\n",
       "x            float64\n",
       "y            float64\n",
       "geometry    geometry\n",
       "dtype: object"
      ]
     },
     "execution_count": 14,
     "metadata": {},
     "output_type": "execute_result"
    }
   ],
   "source": [
    "df_nodes.dtypes"
   ]
  },
  {
   "cell_type": "code",
   "execution_count": 15,
   "id": "5cac6fed-3232-4003-8de0-ed52b159aea3",
   "metadata": {},
   "outputs": [],
   "source": [
    "df_links[\"a\"] = df_links[\"a\"].astype(str)\n",
    "df_links[\"b\"] = df_links[\"b\"].astype(str)\n",
    "df_links[\"a_b\"] = df_links[\"a_b\"].astype(str)\n",
    "\n",
    "df_nodes[\"nid\"] = df_nodes[\"nid\"].astype(str)"
   ]
  },
  {
   "cell_type": "code",
   "execution_count": 19,
   "id": "3f3d49fe-674f-432b-a0c0-2faa80308d67",
   "metadata": {},
   "outputs": [
    {
     "data": {
      "text/html": [
       "<div>\n",
       "<style scoped>\n",
       "    .dataframe tbody tr th:only-of-type {\n",
       "        vertical-align: middle;\n",
       "    }\n",
       "\n",
       "    .dataframe tbody tr th {\n",
       "        vertical-align: top;\n",
       "    }\n",
       "\n",
       "    .dataframe thead th {\n",
       "        text-align: right;\n",
       "    }\n",
       "</style>\n",
       "<table border=\"1\" class=\"dataframe\">\n",
       "  <thead>\n",
       "    <tr style=\"text-align: right;\">\n",
       "      <th></th>\n",
       "      <th>a</th>\n",
       "      <th>b</th>\n",
       "      <th>a_b</th>\n",
       "      <th>name</th>\n",
       "      <th>distance</th>\n",
       "      <th>factype</th>\n",
       "      <th>speed_limi</th>\n",
       "      <th>geometry</th>\n",
       "    </tr>\n",
       "  </thead>\n",
       "  <tbody>\n",
       "    <tr>\n",
       "      <th>39878</th>\n",
       "      <td>25603</td>\n",
       "      <td>73584</td>\n",
       "      <td>25603_73584</td>\n",
       "      <td>Milstead Ave</td>\n",
       "      <td>0.08847</td>\n",
       "      <td>14</td>\n",
       "      <td>0</td>\n",
       "      <td>LINESTRING (-84.01592 33.67172, -84.01558 33.6...</td>\n",
       "    </tr>\n",
       "    <tr>\n",
       "      <th>29785</th>\n",
       "      <td>15402</td>\n",
       "      <td>80646</td>\n",
       "      <td>15402_80646</td>\n",
       "      <td>None</td>\n",
       "      <td>0.16636</td>\n",
       "      <td>7</td>\n",
       "      <td>0</td>\n",
       "      <td>LINESTRING (-84.49127 33.76253, -84.49269 33.7...</td>\n",
       "    </tr>\n",
       "  </tbody>\n",
       "</table>\n",
       "</div>"
      ],
      "text/plain": [
       "           a      b          a_b          name  distance  factype  speed_limi  \\\n",
       "39878  25603  73584  25603_73584  Milstead Ave   0.08847       14           0   \n",
       "29785  15402  80646  15402_80646          None   0.16636        7           0   \n",
       "\n",
       "                                                geometry  \n",
       "39878  LINESTRING (-84.01592 33.67172, -84.01558 33.6...  \n",
       "29785  LINESTRING (-84.49127 33.76253, -84.49269 33.7...  "
      ]
     },
     "execution_count": 19,
     "metadata": {},
     "output_type": "execute_result"
    }
   ],
   "source": [
    "df_links.sample(2)"
   ]
  },
  {
   "cell_type": "code",
   "execution_count": 24,
   "id": "732f3a42-2ee4-4fc0-ae1d-ce6cb376d5ba",
   "metadata": {},
   "outputs": [],
   "source": [
    "# init object\n",
    "traffic_network = TrafficNetwork(\n",
    "    network_links=df_links.copy(),\n",
    "    network_nodes=df_nodes.copy(),\n",
    "    tazs=tazs.copy(),\n",
    ")"
   ]
  },
  {
   "cell_type": "code",
   "execution_count": 25,
   "id": "a72e9f76-41dd-4779-a3b9-efd5221624e6",
   "metadata": {},
   "outputs": [],
   "source": [
    "traffic_network.get_taz_id_list()\n",
    "traffic_network.convert_abm_links()\n",
    "traffic_network.build_network()"
   ]
  },
  {
   "cell_type": "code",
   "execution_count": 26,
   "id": "b7e33f9e-0e35-46cf-9b8b-c91ce4a2298b",
   "metadata": {},
   "outputs": [],
   "source": [
    "# load processed network to a new place...\n",
    "traffic_network.gdf_nodes.to_file(\n",
    "    os.path.join(\n",
    "        os.environ['data_inputs'], \n",
    "        \"cleaned\", \n",
    "        \"nodes.shp\"\n",
    "    ),\n",
    "    crs=\"EPSG:4326\"\n",
    ")\n",
    "traffic_network.gdf_links.to_file(\n",
    "    os.path.join(\n",
    "        os.environ['data_inputs'], \n",
    "        \"cleaned\", \n",
    "        \"links.shp\"\n",
    "    ),\n",
    "    crs=\"EPSG:4326\"\n",
    ")\n",
    "traffic_network.tazs.to_file(\n",
    "    os.path.join(\n",
    "        os.environ['data_inputs'], \n",
    "        \"cleaned\", \n",
    "        \"tazs.shp\"\n",
    "    ),\n",
    "    crs=\"EPSG:4326\"\n",
    ")"
   ]
  },
  {
   "cell_type": "markdown",
   "id": "fac846ac-6e48-46d2-a50a-13d54179bee5",
   "metadata": {},
   "source": [
    "## Prepare dataset for shortest paths between any pair of TAZ origin/destination."
   ]
  },
  {
   "cell_type": "code",
   "execution_count": 19,
   "id": "9fc57b03-90ae-4787-aefe-db1d9257b518",
   "metadata": {},
   "outputs": [],
   "source": [
    "network_dict = traffic_network.network_dict\n",
    "destination_lst = traffic_network.tazs_ids\n",
    "taz_lst = traffic_network.prepare_taz_lists(chunk_size=100)\n",
    "task_inputs = [\n",
    "    (network_dict, destination_lst, taz)\n",
    "    for taz in taz_lst\n",
    "]"
   ]
  },
  {
   "cell_type": "code",
   "execution_count": 20,
   "id": "1aee61f9-4f54-4926-b2b9-2336499e8101",
   "metadata": {},
   "outputs": [
    {
     "name": "stdout",
     "output_type": "stream",
     "text": [
      "Finished searching 100 tazs\n",
      "Finished searching 100 tazs\n",
      "Finished searching 100 tazs\n",
      "Finished searching 100 tazs\n",
      "Finished searching 100 tazs\n",
      "Finished searching 100 tazs\n",
      "Finished searching 100 tazs\n",
      "Finished searching 100 tazs\n",
      "Finished searching 100 tazs\n",
      "Finished searching 100 tazs\n",
      "Finished searching 100 tazs\n",
      "Finished searching 100 tazs\n",
      "Finished searching 100 tazs\n",
      "Finished searching 100 tazs\n",
      "Finished searching 100 tazs\n",
      "Finished searching 100 tazs\n",
      "Finished searching 100 tazs\n",
      "Finished searching 100 tazs\n",
      "Finished searching 100 tazs\n",
      "Finished searching 100 tazs\n",
      "Finished searching 100 tazs\n",
      "Finished searching 100 tazs\n",
      "Finished searching 100 tazs\n",
      "Finished searching 100 tazs\n",
      "Finished searching 100 tazs\n",
      "Finished searching 100 tazs\n",
      "Finished searching 100 tazs\n",
      "Finished searching 100 tazs\n",
      "Finished searching 100 tazs\n",
      "Finished searching 100 tazs\n",
      "Finished searching 100 tazs\n",
      "Finished searching 100 tazs\n",
      "Finished searching 100 tazs\n",
      "Finished searching 100 tazs\n",
      "Finished searching 100 tazs\n",
      "Finished searching 100 tazs\n",
      "Finished searching 100 tazs\n",
      "Finished searching 100 tazs\n",
      "Finished searching 100 tazs\n",
      "Finished searching 100 tazs\n",
      "Finished searching 100 tazs\n",
      "Finished searching 100 tazs\n",
      "Finished searching 100 tazs\n",
      "Finished searching 100 tazs\n",
      "Finished searching 100 tazs\n",
      "Finished searching 100 tazs\n",
      "Finished searching 100 tazs\n",
      "Finished searching 100 tazs\n",
      "Finished searching 100 tazs\n",
      "Finished searching 100 tazs\n",
      "Finished searching 100 tazs\n",
      "Finished searching 100 tazs\n",
      "Finished searching 100 tazs\n",
      "Finished searching 100 tazs\n",
      "Finished searching 100 tazs\n",
      "Finished searching 100 tazs\n",
      "Finished searching 100 tazs\n",
      "Finished searching 73 tazs\n",
      "Finished searching 100 tazs\n",
      "It takes 5.7 minutes to finish the run\n"
     ]
    }
   ],
   "source": [
    "t0 = time.perf_counter()\n",
    "results = None\n",
    "with multiprocess.Pool(NUM_PROCESSES) as pool:\n",
    "    results = pool.starmap(get_shortest_paths, task_inputs)\n",
    "\n",
    "d1 = time.perf_counter() - t0\n",
    "print(f'It takes {d1/60:.1f} minutes to finish the run')"
   ]
  },
  {
   "cell_type": "markdown",
   "id": "c61eb2f9-b3ab-42c6-89c1-ae620d15722e",
   "metadata": {},
   "source": [
    "## Store results in a database"
   ]
  },
  {
   "cell_type": "code",
   "execution_count": 23,
   "id": "78aa741a-cb3b-424f-b840-93c25b2d58dd",
   "metadata": {},
   "outputs": [],
   "source": [
    "# create database connection\n",
    "from carpoolsim.database.prepare_database import batch_store_from_lst"
   ]
  },
  {
   "cell_type": "code",
   "execution_count": 24,
   "id": "c1b0af27-4716-4d2f-a3f0-d319d2855a8a",
   "metadata": {},
   "outputs": [
    {
     "name": "stdout",
     "output_type": "stream",
     "text": [
      "sqlite engine created\n",
      "engine successfully connectedd to the database\n",
      "start feeding data to database! Dataframe shape:  (587300, 2)\n",
      "Appended a whole batch data to the server!\n",
      "start feeding data to database! Dataframe shape:  (587300, 2)\n",
      "Appended a whole batch data to the server!\n",
      "start feeding data to database! Dataframe shape:  (587300, 2)\n",
      "Appended a whole batch data to the server!\n",
      "start feeding data to database! Dataframe shape:  (587300, 2)\n",
      "Appended a whole batch data to the server!\n",
      "start feeding data to database! Dataframe shape:  (587300, 2)\n",
      "Appended a whole batch data to the server!\n",
      "start feeding data to database! Dataframe shape:  (587300, 2)\n",
      "Appended a whole batch data to the server!\n",
      "start feeding data to database! Dataframe shape:  (587300, 2)\n",
      "Appended a whole batch data to the server!\n",
      "start feeding data to database! Dataframe shape:  (587300, 2)\n",
      "Appended a whole batch data to the server!\n",
      "start feeding data to database! Dataframe shape:  (587300, 2)\n",
      "Appended a whole batch data to the server!\n",
      "start feeding data to database! Dataframe shape:  (587300, 2)\n",
      "Appended a whole batch data to the server!\n",
      "start feeding data to database! Dataframe shape:  (587300, 2)\n",
      "Appended a whole batch data to the server!\n",
      "start feeding data to database! Dataframe shape:  (587300, 2)\n",
      "Appended a whole batch data to the server!\n",
      "start feeding data to database! Dataframe shape:  (587300, 2)\n",
      "Appended a whole batch data to the server!\n",
      "start feeding data to database! Dataframe shape:  (587300, 2)\n",
      "Appended a whole batch data to the server!\n",
      "start feeding data to database! Dataframe shape:  (587300, 2)\n",
      "Appended a whole batch data to the server!\n",
      "start feeding data to database! Dataframe shape:  (587300, 2)\n",
      "Appended a whole batch data to the server!\n",
      "start feeding data to database! Dataframe shape:  (587300, 2)\n",
      "Appended a whole batch data to the server!\n",
      "start feeding data to database! Dataframe shape:  (587300, 2)\n",
      "Appended a whole batch data to the server!\n",
      "start feeding data to database! Dataframe shape:  (587300, 2)\n",
      "Appended a whole batch data to the server!\n",
      "start feeding data to database! Dataframe shape:  (587300, 2)\n",
      "Appended a whole batch data to the server!\n",
      "start feeding data to database! Dataframe shape:  (587300, 2)\n",
      "Appended a whole batch data to the server!\n",
      "start feeding data to database! Dataframe shape:  (587300, 2)\n",
      "Appended a whole batch data to the server!\n",
      "start feeding data to database! Dataframe shape:  (587300, 2)\n",
      "Appended a whole batch data to the server!\n",
      "start feeding data to database! Dataframe shape:  (587300, 2)\n",
      "Appended a whole batch data to the server!\n",
      "start feeding data to database! Dataframe shape:  (587300, 2)\n",
      "Appended a whole batch data to the server!\n",
      "start feeding data to database! Dataframe shape:  (587300, 2)\n",
      "Appended a whole batch data to the server!\n",
      "start feeding data to database! Dataframe shape:  (587300, 2)\n",
      "Appended a whole batch data to the server!\n",
      "start feeding data to database! Dataframe shape:  (587300, 2)\n",
      "Appended a whole batch data to the server!\n",
      "start feeding data to database! Dataframe shape:  (587300, 2)\n",
      "Appended a whole batch data to the server!\n",
      "start feeding data to database! Dataframe shape:  (587300, 2)\n",
      "Appended a whole batch data to the server!\n",
      "start feeding data to database! Dataframe shape:  (587300, 2)\n",
      "Appended a whole batch data to the server!\n",
      "start feeding data to database! Dataframe shape:  (587300, 2)\n",
      "Appended a whole batch data to the server!\n",
      "start feeding data to database! Dataframe shape:  (587300, 2)\n",
      "Appended a whole batch data to the server!\n",
      "start feeding data to database! Dataframe shape:  (587300, 2)\n",
      "Appended a whole batch data to the server!\n",
      "start feeding data to database! Dataframe shape:  (587300, 2)\n",
      "Appended a whole batch data to the server!\n",
      "start feeding data to database! Dataframe shape:  (587300, 2)\n",
      "Appended a whole batch data to the server!\n",
      "start feeding data to database! Dataframe shape:  (587300, 2)\n",
      "Appended a whole batch data to the server!\n",
      "start feeding data to database! Dataframe shape:  (587300, 2)\n",
      "Appended a whole batch data to the server!\n",
      "start feeding data to database! Dataframe shape:  (587300, 2)\n",
      "Appended a whole batch data to the server!\n",
      "start feeding data to database! Dataframe shape:  (587300, 2)\n",
      "Appended a whole batch data to the server!\n",
      "start feeding data to database! Dataframe shape:  (587300, 2)\n",
      "Appended a whole batch data to the server!\n",
      "start feeding data to database! Dataframe shape:  (587300, 2)\n",
      "Appended a whole batch data to the server!\n",
      "start feeding data to database! Dataframe shape:  (587300, 2)\n",
      "Appended a whole batch data to the server!\n",
      "start feeding data to database! Dataframe shape:  (587300, 2)\n",
      "Appended a whole batch data to the server!\n",
      "start feeding data to database! Dataframe shape:  (587300, 2)\n",
      "Appended a whole batch data to the server!\n",
      "start feeding data to database! Dataframe shape:  (587300, 2)\n",
      "Appended a whole batch data to the server!\n",
      "start feeding data to database! Dataframe shape:  (587300, 2)\n",
      "Appended a whole batch data to the server!\n",
      "start feeding data to database! Dataframe shape:  (587300, 2)\n",
      "Appended a whole batch data to the server!\n",
      "start feeding data to database! Dataframe shape:  (587300, 2)\n",
      "Appended a whole batch data to the server!\n",
      "start feeding data to database! Dataframe shape:  (587300, 2)\n",
      "Appended a whole batch data to the server!\n",
      "start feeding data to database! Dataframe shape:  (587300, 2)\n",
      "Appended a whole batch data to the server!\n",
      "start feeding data to database! Dataframe shape:  (587300, 2)\n",
      "Appended a whole batch data to the server!\n",
      "start feeding data to database! Dataframe shape:  (587300, 2)\n",
      "Appended a whole batch data to the server!\n",
      "start feeding data to database! Dataframe shape:  (587300, 2)\n",
      "Appended a whole batch data to the server!\n",
      "start feeding data to database! Dataframe shape:  (587300, 2)\n",
      "Appended a whole batch data to the server!\n",
      "start feeding data to database! Dataframe shape:  (587300, 2)\n",
      "Appended a whole batch data to the server!\n",
      "start feeding data to database! Dataframe shape:  (587300, 2)\n",
      "Appended a whole batch data to the server!\n",
      "start feeding data to database! Dataframe shape:  (587300, 2)\n",
      "Appended a whole batch data to the server!\n",
      "start feeding data to database! Dataframe shape:  (428729, 2)\n",
      "Appended a whole batch data to the server!\n"
     ]
    }
   ],
   "source": [
    "# If 1_000 TAZs, the dataset contains\n",
    "# 1000 * 1000 = 1_000_000 trip records between them\n",
    "batch_store_from_lst(results, DB_URL)"
   ]
  },
  {
   "cell_type": "markdown",
   "id": "9cc39338-f8d2-49b0-b5f2-0b574365a382",
   "metadata": {},
   "source": [
    "## Try to access the database\n",
    "\n",
    "Those are some tools to access the dataset and query results"
   ]
  },
  {
   "cell_type": "code",
   "execution_count": 26,
   "id": "c9449745-8fd6-492d-b7be-55e7ff73d23f",
   "metadata": {},
   "outputs": [],
   "source": [
    "from sqlalchemy import create_engine\n",
    "\n",
    "from carpoolsim.database.query_database import (\n",
    "    query_od_info,\n",
    "    execute_sql_command\n",
    ")"
   ]
  },
  {
   "cell_type": "code",
   "execution_count": 27,
   "id": "d6fa9997-f1ba-4108-9605-1d5cc827a6a7",
   "metadata": {},
   "outputs": [],
   "source": [
    "engine = create_engine(DB_URL)"
   ]
  },
  {
   "cell_type": "code",
   "execution_count": 28,
   "id": "6621e0f8-b66a-49fc-9ba2-d68ff6461676",
   "metadata": {},
   "outputs": [
    {
     "name": "stdout",
     "output_type": "stream",
     "text": [
      "('1404', '2820', 10.90411714285714, ['1404', '25495', '1403', '10415', '1402', '65883', '14841', '10304', '81987', '10457', '10459', '14869', '10458', '10467', '10464', '20940', '10469', '10472', '10473', '10479', '83091', '83093', '10474', '13593', '11959', '11960', '83099', '83101', '11961', '14599', '81454', '81455', '14597', '14596', '81451', '36631', '2820'])\n"
     ]
    }
   ],
   "source": [
    "# from TAZ \"1404\" to TAZ \"2820\"\n",
    "results = query_od_info(engine, '1404', '2820')\n",
    "print(results)"
   ]
  },
  {
   "cell_type": "code",
   "execution_count": 29,
   "id": "aa9ff190-4875-42c5-bd22-14eedd7ce74c",
   "metadata": {},
   "outputs": [
    {
     "data": {
      "text/plain": [
       "[('1', '1', 0.0, \"['1']\"),\n",
       " ('1', '2', 1.6642285714285716, \"['1', '80483', '2']\"),\n",
       " ('1', '3', 1.9914342857142857, \"['1', '65666', '3']\"),\n",
       " ('1', '4', 4.348765714285714, \"['1', '65666', '3', '74491', '4']\"),\n",
       " ('1', '5', 5.66832, \"['1', '65666', '3', '74491', '4', '74487', '5']\")]"
      ]
     },
     "metadata": {},
     "output_type": "display_data"
    }
   ],
   "source": [
    "sql_command = \"SELECT * FROM dists LIMIT 5;\"\n",
    "\n",
    "tot_lines = execute_sql_command(engine, sql_command, mode=\"fetchall\")\n",
    "display(tot_lines)"
   ]
  },
  {
   "cell_type": "code",
   "execution_count": null,
   "id": "acc67c21-fd1a-4d29-9ab3-a3dcdda85193",
   "metadata": {},
   "outputs": [],
   "source": []
  }
 ],
 "metadata": {
  "kernelspec": {
   "display_name": "Python 3 (ipykernel)",
   "language": "python",
   "name": "python3"
  },
  "language_info": {
   "codemirror_mode": {
    "name": "ipython",
    "version": 3
   },
   "file_extension": ".py",
   "mimetype": "text/x-python",
   "name": "python",
   "nbconvert_exporter": "python",
   "pygments_lexer": "ipython3",
   "version": "3.12.2"
  }
 },
 "nbformat": 4,
 "nbformat_minor": 5
}
