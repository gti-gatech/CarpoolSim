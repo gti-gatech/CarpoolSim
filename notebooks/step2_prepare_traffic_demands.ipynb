{
 "cells": [
  {
   "cell_type": "markdown",
   "id": "8fbe7e75-897d-4b57-ab36-fb269f837a7d",
   "metadata": {},
   "source": [
    "## Prepare traffic demands"
   ]
  },
  {
   "cell_type": "code",
   "execution_count": 1,
   "id": "1ec612c3-3371-40c4-84ca-d398bb3a1310",
   "metadata": {},
   "outputs": [],
   "source": [
    "import os\n",
    "import sys\n",
    "\n",
    "import pandas as pd\n",
    "import geopandas as gpd\n",
    "import numpy as np\n",
    "\n",
    "pd.options.display.max_columns = None  # display all columns"
   ]
  },
  {
   "cell_type": "code",
   "execution_count": 2,
   "id": "27399cd5-28fb-4a6b-8a9b-03eec14b7a83",
   "metadata": {},
   "outputs": [],
   "source": [
    "# for auto-reloading\n",
    "%load_ext autoreload\n",
    "%autoreload 2    "
   ]
  },
  {
   "cell_type": "code",
   "execution_count": 3,
   "id": "0c60cadd-ddf0-4321-8a50-85f63b4ba788",
   "metadata": {},
   "outputs": [],
   "source": [
    "# need to set this environmental path everytime you moves the project root folder\n",
    "os.environ['project_root'] = '/Users/geekduck/Dropbox/gt_survey'\n",
    "\n",
    "sys.path.append(os.environ['project_root'])"
   ]
  },
  {
   "cell_type": "code",
   "execution_count": 4,
   "id": "80945cd1-7d23-4907-af12-8f0f150ea545",
   "metadata": {},
   "outputs": [],
   "source": [
    "from carpoolsim.basic_settings import *"
   ]
  },
  {
   "cell_type": "markdown",
   "id": "a28327e4-77b4-4006-9fb5-7db994660bc0",
   "metadata": {},
   "source": [
    "## Load data\n",
    "- trip inputs\n",
    "- taz data"
   ]
  },
  {
   "cell_type": "code",
   "execution_count": 5,
   "id": "6ca857b0-0433-43b0-bb47-8a471c59e303",
   "metadata": {},
   "outputs": [
    {
     "name": "stdout",
     "output_type": "stream",
     "text": [
      "(1545, 7)\n"
     ]
    },
    {
     "data": {
      "text/html": [
       "<div>\n",
       "<style scoped>\n",
       "    .dataframe tbody tr th:only-of-type {\n",
       "        vertical-align: middle;\n",
       "    }\n",
       "\n",
       "    .dataframe tbody tr th {\n",
       "        vertical-align: top;\n",
       "    }\n",
       "\n",
       "    .dataframe thead th {\n",
       "        text-align: right;\n",
       "    }\n",
       "</style>\n",
       "<table border=\"1\" class=\"dataframe\">\n",
       "  <thead>\n",
       "    <tr style=\"text-align: right;\">\n",
       "      <th></th>\n",
       "      <th>trip_id</th>\n",
       "      <th>orig_lon</th>\n",
       "      <th>orig_lat</th>\n",
       "      <th>dest_lon</th>\n",
       "      <th>dest_lat</th>\n",
       "      <th>new_min</th>\n",
       "      <th>geometry</th>\n",
       "    </tr>\n",
       "  </thead>\n",
       "  <tbody>\n",
       "    <tr>\n",
       "      <th>181</th>\n",
       "      <td>258</td>\n",
       "      <td>-84.3883</td>\n",
       "      <td>33.7984</td>\n",
       "      <td>-84.397971</td>\n",
       "      <td>33.775766</td>\n",
       "      <td>570.0</td>\n",
       "      <td>POINT (-84.38830 33.79840)</td>\n",
       "    </tr>\n",
       "    <tr>\n",
       "      <th>418</th>\n",
       "      <td>613</td>\n",
       "      <td>-84.1470</td>\n",
       "      <td>34.0260</td>\n",
       "      <td>-84.397971</td>\n",
       "      <td>33.775766</td>\n",
       "      <td>480.0</td>\n",
       "      <td>POINT (-84.14700 34.02600)</td>\n",
       "    </tr>\n",
       "  </tbody>\n",
       "</table>\n",
       "</div>"
      ],
      "text/plain": [
       "     trip_id  orig_lon  orig_lat   dest_lon   dest_lat  new_min  \\\n",
       "181      258  -84.3883   33.7984 -84.397971  33.775766    570.0   \n",
       "418      613  -84.1470   34.0260 -84.397971  33.775766    480.0   \n",
       "\n",
       "                       geometry  \n",
       "181  POINT (-84.38830 33.79840)  \n",
       "418  POINT (-84.14700 34.02600)  "
      ]
     },
     "execution_count": 5,
     "metadata": {},
     "output_type": "execute_result"
    }
   ],
   "source": [
    "gt_survey = gpd.read_file(\n",
    "    os.path.join(os.environ['data_inputs'], \"cleaned\", \"trips.shp\"),\n",
    ")\n",
    "print(gt_survey.shape)\n",
    "gt_survey.sample(2)"
   ]
  },
  {
   "cell_type": "code",
   "execution_count": 6,
   "id": "9c6931c4-a769-4c7e-ae66-ad55b29432e9",
   "metadata": {},
   "outputs": [
    {
     "name": "stdout",
     "output_type": "stream",
     "text": [
      "(5873, 3)\n"
     ]
    },
    {
     "data": {
      "text/html": [
       "<div>\n",
       "<style scoped>\n",
       "    .dataframe tbody tr th:only-of-type {\n",
       "        vertical-align: middle;\n",
       "    }\n",
       "\n",
       "    .dataframe tbody tr th {\n",
       "        vertical-align: top;\n",
       "    }\n",
       "\n",
       "    .dataframe thead th {\n",
       "        text-align: right;\n",
       "    }\n",
       "</style>\n",
       "<table border=\"1\" class=\"dataframe\">\n",
       "  <thead>\n",
       "    <tr style=\"text-align: right;\">\n",
       "      <th></th>\n",
       "      <th>taz_id</th>\n",
       "      <th>group_id</th>\n",
       "      <th>geometry</th>\n",
       "    </tr>\n",
       "  </thead>\n",
       "  <tbody>\n",
       "    <tr>\n",
       "      <th>5197</th>\n",
       "      <td>3607</td>\n",
       "      <td>Clayton</td>\n",
       "      <td>POLYGON ((-84.29469 33.43579, -84.29468 33.435...</td>\n",
       "    </tr>\n",
       "    <tr>\n",
       "      <th>1023</th>\n",
       "      <td>2880</td>\n",
       "      <td>Gwinnett</td>\n",
       "      <td>POLYGON ((-84.05892 34.14503, -84.05828 34.144...</td>\n",
       "    </tr>\n",
       "  </tbody>\n",
       "</table>\n",
       "</div>"
      ],
      "text/plain": [
       "      taz_id  group_id                                           geometry\n",
       "5197    3607   Clayton  POLYGON ((-84.29469 33.43579, -84.29468 33.435...\n",
       "1023    2880  Gwinnett  POLYGON ((-84.05892 34.14503, -84.05828 34.144..."
      ]
     },
     "execution_count": 6,
     "metadata": {},
     "output_type": "execute_result"
    }
   ],
   "source": [
    "# load taz\n",
    "tazs = gpd.read_file(\n",
    "    os.path.join(os.environ['data_inputs'], \"cleaned\", \"tazs.shp\")\n",
    ")\n",
    "\n",
    "print(tazs.shape)\n",
    "tazs.sample(2)"
   ]
  },
  {
   "cell_type": "code",
   "execution_count": 7,
   "id": "90e84e8f-c975-487e-b850-0e6c8761f0fe",
   "metadata": {},
   "outputs": [],
   "source": [
    "from shapely import Point\n",
    "\n",
    "# assign TAZ given long/lat\n",
    "def get_taz_given_lon_lat(\n",
    "    df_row, lon_col, lat_col, tazs=tazs\n",
    "):\n",
    "    point = Point(df_row[lon_col], df_row[lat_col])\n",
    "    taz_geoms = tazs[\"geometry\"].tolist()\n",
    "    filt = [taz_geom.contains(point) for taz_geom in taz_geoms]\n",
    "    \n",
    "    if sum(filt) == 0:\n",
    "        the_taz_info = -1, \"\"\n",
    "    else:\n",
    "        the_taz_info = tazs.loc[filt, [\"taz_id\", \"group_id\"]].iloc[0]\n",
    "    return the_taz_info\n",
    "\n",
    "gt_survey[[\"orig_taz\", \"O_region\"]] = gt_survey.apply(\n",
    "    get_taz_given_lon_lat,\n",
    "    axis=1,\n",
    "    lon_col=\"orig_lon\", \n",
    "    lat_col=\"orig_lat\",\n",
    ")\n",
    "\n",
    "gt_survey[[\"dest_taz\", \"D_region\"]] = gt_survey.apply(\n",
    "    get_taz_given_lon_lat,\n",
    "    axis=1,\n",
    "    lon_col=\"dest_lon\", \n",
    "    lat_col=\"dest_lat\",\n",
    ")"
   ]
  },
  {
   "cell_type": "code",
   "execution_count": 8,
   "id": "c637ec4e-5eba-49ff-b195-57355ace6b04",
   "metadata": {},
   "outputs": [
    {
     "data": {
      "text/html": [
       "<div>\n",
       "<style scoped>\n",
       "    .dataframe tbody tr th:only-of-type {\n",
       "        vertical-align: middle;\n",
       "    }\n",
       "\n",
       "    .dataframe tbody tr th {\n",
       "        vertical-align: top;\n",
       "    }\n",
       "\n",
       "    .dataframe thead th {\n",
       "        text-align: right;\n",
       "    }\n",
       "</style>\n",
       "<table border=\"1\" class=\"dataframe\">\n",
       "  <thead>\n",
       "    <tr style=\"text-align: right;\">\n",
       "      <th></th>\n",
       "      <th>trip_id</th>\n",
       "      <th>orig_lon</th>\n",
       "      <th>orig_lat</th>\n",
       "      <th>dest_lon</th>\n",
       "      <th>dest_lat</th>\n",
       "      <th>new_min</th>\n",
       "      <th>geometry</th>\n",
       "      <th>orig_taz</th>\n",
       "      <th>O_region</th>\n",
       "      <th>dest_taz</th>\n",
       "      <th>D_region</th>\n",
       "    </tr>\n",
       "  </thead>\n",
       "  <tbody>\n",
       "    <tr>\n",
       "      <th>506</th>\n",
       "      <td>749</td>\n",
       "      <td>-84.3020</td>\n",
       "      <td>34.1124</td>\n",
       "      <td>-84.397971</td>\n",
       "      <td>33.775766</td>\n",
       "      <td>720.0</td>\n",
       "      <td>POINT (-84.30200 34.11240)</td>\n",
       "      <td>49</td>\n",
       "      <td>Fulton</td>\n",
       "      <td>484</td>\n",
       "      <td>Fulton</td>\n",
       "    </tr>\n",
       "    <tr>\n",
       "      <th>1085</th>\n",
       "      <td>1715</td>\n",
       "      <td>-84.3757</td>\n",
       "      <td>33.7718</td>\n",
       "      <td>-84.397971</td>\n",
       "      <td>33.775766</td>\n",
       "      <td>660.0</td>\n",
       "      <td>POINT (-84.37570 33.77180)</td>\n",
       "      <td>569</td>\n",
       "      <td>Fulton</td>\n",
       "      <td>484</td>\n",
       "      <td>Fulton</td>\n",
       "    </tr>\n",
       "    <tr>\n",
       "      <th>635</th>\n",
       "      <td>963</td>\n",
       "      <td>-84.8194</td>\n",
       "      <td>33.3696</td>\n",
       "      <td>-84.397971</td>\n",
       "      <td>33.775766</td>\n",
       "      <td>420.0</td>\n",
       "      <td>POINT (-84.81940 33.36960)</td>\n",
       "      <td>4344</td>\n",
       "      <td>Coweta</td>\n",
       "      <td>484</td>\n",
       "      <td>Fulton</td>\n",
       "    </tr>\n",
       "  </tbody>\n",
       "</table>\n",
       "</div>"
      ],
      "text/plain": [
       "      trip_id  orig_lon  orig_lat   dest_lon   dest_lat  new_min  \\\n",
       "506       749  -84.3020   34.1124 -84.397971  33.775766    720.0   \n",
       "1085     1715  -84.3757   33.7718 -84.397971  33.775766    660.0   \n",
       "635       963  -84.8194   33.3696 -84.397971  33.775766    420.0   \n",
       "\n",
       "                        geometry  orig_taz O_region  dest_taz D_region  \n",
       "506   POINT (-84.30200 34.11240)        49   Fulton       484   Fulton  \n",
       "1085  POINT (-84.37570 33.77180)       569   Fulton       484   Fulton  \n",
       "635   POINT (-84.81940 33.36960)      4344   Coweta       484   Fulton  "
      ]
     },
     "execution_count": 8,
     "metadata": {},
     "output_type": "execute_result"
    }
   ],
   "source": [
    "gt_survey.sample(3)"
   ]
  },
  {
   "cell_type": "code",
   "execution_count": 9,
   "id": "5637677c-acf2-4e75-a758-eff6d9480f4a",
   "metadata": {},
   "outputs": [
    {
     "name": "stdout",
     "output_type": "stream",
     "text": [
      "(1545, 11)\n",
      "(1519, 11)\n"
     ]
    }
   ],
   "source": [
    "print(gt_survey.shape)\n",
    "filt = (gt_survey[\"orig_taz\"] != -1)\n",
    "gt_survey = gt_survey.loc[filt, :]\n",
    "print(gt_survey.shape)"
   ]
  },
  {
   "cell_type": "code",
   "execution_count": 10,
   "id": "47adc4d0-b8c6-4fd6-8223-27abe0cd1477",
   "metadata": {},
   "outputs": [
    {
     "name": "stdout",
     "output_type": "stream",
     "text": [
      "['Fulton' 'DeKalb' 'Carroll' 'Cobb' 'Fayette' 'Gwinnett' 'Douglas'\n",
      " 'Paulding' 'Clayton' 'Cherokee' 'Forsyth' 'Rockdale' 'Hall' 'Henry'\n",
      " 'Coweta' 'Newton' 'Barrow' 'Walton']\n",
      "['Fulton']\n"
     ]
    }
   ],
   "source": [
    "print(gt_survey.O_region.unique())\n",
    "print(gt_survey.D_region.unique())"
   ]
  },
  {
   "cell_type": "code",
   "execution_count": 13,
   "id": "39a8e8f6-2ad5-42fa-be4a-593ac87623a4",
   "metadata": {},
   "outputs": [],
   "source": [
    "# store results to data_outputs\n",
    "gt_survey.to_file(\n",
    "    os.path.join(\n",
    "        os.environ['data_inputs'], \n",
    "        \"cleaned\", \n",
    "        \"trips.shp\"\n",
    "    ),\n",
    "    crs=\"EPSG:4326\"\n",
    ")"
   ]
  },
  {
   "cell_type": "code",
   "execution_count": null,
   "id": "f740f324-3d4b-4858-9fd1-dd9897ed9e19",
   "metadata": {},
   "outputs": [],
   "source": []
  }
 ],
 "metadata": {
  "kernelspec": {
   "display_name": "Python 3 (ipykernel)",
   "language": "python",
   "name": "python3"
  },
  "language_info": {
   "codemirror_mode": {
    "name": "ipython",
    "version": 3
   },
   "file_extension": ".py",
   "mimetype": "text/x-python",
   "name": "python",
   "nbconvert_exporter": "python",
   "pygments_lexer": "ipython3",
   "version": "3.12.2"
  }
 },
 "nbformat": 4,
 "nbformat_minor": 5
}
