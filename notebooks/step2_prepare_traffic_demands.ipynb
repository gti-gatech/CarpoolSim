{
 "cells": [
  {
   "cell_type": "markdown",
   "id": "8fbe7e75-897d-4b57-ab36-fb269f837a7d",
   "metadata": {},
   "source": [
    "## Prepare traffic demands"
   ]
  },
  {
   "cell_type": "code",
   "execution_count": 1,
   "id": "1ec612c3-3371-40c4-84ca-d398bb3a1310",
   "metadata": {},
   "outputs": [],
   "source": [
    "import os\n",
    "import sys\n",
    "\n",
    "import pandas as pd\n",
    "import geopandas as gpd\n",
    "import numpy as np\n",
    "\n",
    "pd.options.display.max_columns = None  # display all columns"
   ]
  },
  {
   "cell_type": "code",
   "execution_count": 2,
   "id": "27399cd5-28fb-4a6b-8a9b-03eec14b7a83",
   "metadata": {},
   "outputs": [],
   "source": [
    "# for auto-reloading\n",
    "%load_ext autoreload\n",
    "%autoreload 2    "
   ]
  },
  {
   "cell_type": "code",
   "execution_count": 3,
   "id": "0c60cadd-ddf0-4321-8a50-85f63b4ba788",
   "metadata": {},
   "outputs": [],
   "source": [
    "# need to set this environmental path everytime you moves the project root folder\n",
    "os.environ['project_root'] = '/Users/geekduck/Dropbox/gt_survey'\n",
    "\n",
    "sys.path.append(os.environ['project_root'])"
   ]
  },
  {
   "cell_type": "code",
   "execution_count": 4,
   "id": "80945cd1-7d23-4907-af12-8f0f150ea545",
   "metadata": {},
   "outputs": [],
   "source": [
    "from carpoolsim.basic_settings import *"
   ]
  },
  {
   "cell_type": "markdown",
   "id": "a28327e4-77b4-4006-9fb5-7db994660bc0",
   "metadata": {},
   "source": [
    "## Load data\n",
    "- trip inputs\n",
    "- taz data"
   ]
  },
  {
   "cell_type": "code",
   "execution_count": 5,
   "id": "6ca857b0-0433-43b0-bb47-8a471c59e303",
   "metadata": {},
   "outputs": [
    {
     "name": "stdout",
     "output_type": "stream",
     "text": [
      "(1539, 7)\n"
     ]
    },
    {
     "data": {
      "text/html": [
       "<div>\n",
       "<style scoped>\n",
       "    .dataframe tbody tr th:only-of-type {\n",
       "        vertical-align: middle;\n",
       "    }\n",
       "\n",
       "    .dataframe tbody tr th {\n",
       "        vertical-align: top;\n",
       "    }\n",
       "\n",
       "    .dataframe thead th {\n",
       "        text-align: right;\n",
       "    }\n",
       "</style>\n",
       "<table border=\"1\" class=\"dataframe\">\n",
       "  <thead>\n",
       "    <tr style=\"text-align: right;\">\n",
       "      <th></th>\n",
       "      <th>trip_id</th>\n",
       "      <th>orig_lon</th>\n",
       "      <th>orig_lat</th>\n",
       "      <th>dest_lon</th>\n",
       "      <th>dest_lat</th>\n",
       "      <th>new_min</th>\n",
       "      <th>geometry</th>\n",
       "    </tr>\n",
       "  </thead>\n",
       "  <tbody>\n",
       "    <tr>\n",
       "      <th>696</th>\n",
       "      <td>1066</td>\n",
       "      <td>-84.3935</td>\n",
       "      <td>33.7683</td>\n",
       "      <td>-84.397971</td>\n",
       "      <td>33.775766</td>\n",
       "      <td>600.0</td>\n",
       "      <td>POINT (-84.39350 33.76830)</td>\n",
       "    </tr>\n",
       "    <tr>\n",
       "      <th>726</th>\n",
       "      <td>1112</td>\n",
       "      <td>-84.4633</td>\n",
       "      <td>34.0025</td>\n",
       "      <td>-84.397971</td>\n",
       "      <td>33.775766</td>\n",
       "      <td>630.0</td>\n",
       "      <td>POINT (-84.46330 34.00250)</td>\n",
       "    </tr>\n",
       "  </tbody>\n",
       "</table>\n",
       "</div>"
      ],
      "text/plain": [
       "     trip_id  orig_lon  orig_lat   dest_lon   dest_lat  new_min  \\\n",
       "696     1066  -84.3935   33.7683 -84.397971  33.775766    600.0   \n",
       "726     1112  -84.4633   34.0025 -84.397971  33.775766    630.0   \n",
       "\n",
       "                       geometry  \n",
       "696  POINT (-84.39350 33.76830)  \n",
       "726  POINT (-84.46330 34.00250)  "
      ]
     },
     "execution_count": 5,
     "metadata": {},
     "output_type": "execute_result"
    }
   ],
   "source": [
    "gt_survey = gpd.read_file(\n",
    "    os.path.join(os.environ['data_inputs'], \"cleaned\", \"trips.shp\"),\n",
    ")\n",
    "print(gt_survey.shape)\n",
    "gt_survey.sample(2)"
   ]
  },
  {
   "cell_type": "code",
   "execution_count": 6,
   "id": "9c6931c4-a769-4c7e-ae66-ad55b29432e9",
   "metadata": {},
   "outputs": [
    {
     "name": "stdout",
     "output_type": "stream",
     "text": [
      "(5873, 3)\n"
     ]
    },
    {
     "data": {
      "text/html": [
       "<div>\n",
       "<style scoped>\n",
       "    .dataframe tbody tr th:only-of-type {\n",
       "        vertical-align: middle;\n",
       "    }\n",
       "\n",
       "    .dataframe tbody tr th {\n",
       "        vertical-align: top;\n",
       "    }\n",
       "\n",
       "    .dataframe thead th {\n",
       "        text-align: right;\n",
       "    }\n",
       "</style>\n",
       "<table border=\"1\" class=\"dataframe\">\n",
       "  <thead>\n",
       "    <tr style=\"text-align: right;\">\n",
       "      <th></th>\n",
       "      <th>taz_id</th>\n",
       "      <th>group_id</th>\n",
       "      <th>geometry</th>\n",
       "    </tr>\n",
       "  </thead>\n",
       "  <tbody>\n",
       "    <tr>\n",
       "      <th>3931</th>\n",
       "      <td>3932</td>\n",
       "      <td>Douglas</td>\n",
       "      <td>POLYGON ((-84.75040 33.78773, -84.74966 33.786...</td>\n",
       "    </tr>\n",
       "    <tr>\n",
       "      <th>2368</th>\n",
       "      <td>2369</td>\n",
       "      <td>Cobb</td>\n",
       "      <td>POLYGON ((-84.45793 33.82465, -84.45789 33.824...</td>\n",
       "    </tr>\n",
       "  </tbody>\n",
       "</table>\n",
       "</div>"
      ],
      "text/plain": [
       "      taz_id group_id                                           geometry\n",
       "3931    3932  Douglas  POLYGON ((-84.75040 33.78773, -84.74966 33.786...\n",
       "2368    2369     Cobb  POLYGON ((-84.45793 33.82465, -84.45789 33.824..."
      ]
     },
     "execution_count": 6,
     "metadata": {},
     "output_type": "execute_result"
    }
   ],
   "source": [
    "# load taz\n",
    "tazs = gpd.read_file(\n",
    "    os.path.join(os.environ['data_inputs'], \"cleaned\", \"tazs.shp\")\n",
    ")\n",
    "\n",
    "print(tazs.shape)\n",
    "tazs.sample(2)"
   ]
  },
  {
   "cell_type": "code",
   "execution_count": 7,
   "id": "90e84e8f-c975-487e-b850-0e6c8761f0fe",
   "metadata": {},
   "outputs": [],
   "source": [
    "from shapely import Point\n",
    "\n",
    "# assign TAZ given long/lat\n",
    "def get_taz_given_lon_lat(\n",
    "    df_row, lon_col, lat_col, tazs=tazs\n",
    "):\n",
    "    point = Point(df_row[lon_col], df_row[lat_col])\n",
    "    taz_geoms = tazs[\"geometry\"].tolist()\n",
    "    filt = [taz_geom.contains(point) for taz_geom in taz_geoms]\n",
    "    \n",
    "    if sum(filt) == 0:\n",
    "        the_taz_info = -1, \"\"\n",
    "    else:\n",
    "        the_taz_info = tazs.loc[filt, [\"taz_id\", \"group_id\"]].iloc[0]\n",
    "    return the_taz_info\n",
    "\n",
    "gt_survey[[\"orig_taz\", \"O_region\"]] = gt_survey.apply(\n",
    "    get_taz_given_lon_lat,\n",
    "    axis=1,\n",
    "    lon_col=\"orig_lon\", \n",
    "    lat_col=\"orig_lat\",\n",
    ")\n",
    "\n",
    "gt_survey[[\"dest_taz\", \"D_region\"]] = gt_survey.apply(\n",
    "    get_taz_given_lon_lat,\n",
    "    axis=1,\n",
    "    lon_col=\"dest_lon\", \n",
    "    lat_col=\"dest_lat\",\n",
    ")"
   ]
  },
  {
   "cell_type": "code",
   "execution_count": 8,
   "id": "c637ec4e-5eba-49ff-b195-57355ace6b04",
   "metadata": {},
   "outputs": [
    {
     "data": {
      "text/html": [
       "<div>\n",
       "<style scoped>\n",
       "    .dataframe tbody tr th:only-of-type {\n",
       "        vertical-align: middle;\n",
       "    }\n",
       "\n",
       "    .dataframe tbody tr th {\n",
       "        vertical-align: top;\n",
       "    }\n",
       "\n",
       "    .dataframe thead th {\n",
       "        text-align: right;\n",
       "    }\n",
       "</style>\n",
       "<table border=\"1\" class=\"dataframe\">\n",
       "  <thead>\n",
       "    <tr style=\"text-align: right;\">\n",
       "      <th></th>\n",
       "      <th>trip_id</th>\n",
       "      <th>orig_lon</th>\n",
       "      <th>orig_lat</th>\n",
       "      <th>dest_lon</th>\n",
       "      <th>dest_lat</th>\n",
       "      <th>new_min</th>\n",
       "      <th>geometry</th>\n",
       "      <th>orig_taz</th>\n",
       "      <th>O_region</th>\n",
       "      <th>dest_taz</th>\n",
       "      <th>D_region</th>\n",
       "    </tr>\n",
       "  </thead>\n",
       "  <tbody>\n",
       "    <tr>\n",
       "      <th>1190</th>\n",
       "      <td>1896</td>\n",
       "      <td>-84.3169</td>\n",
       "      <td>33.7498</td>\n",
       "      <td>-84.397971</td>\n",
       "      <td>33.775766</td>\n",
       "      <td>450.0</td>\n",
       "      <td>POINT (-84.31690 33.74980)</td>\n",
       "      <td>1646</td>\n",
       "      <td>DeKalb</td>\n",
       "      <td>484</td>\n",
       "      <td>Fulton</td>\n",
       "    </tr>\n",
       "    <tr>\n",
       "      <th>573</th>\n",
       "      <td>861</td>\n",
       "      <td>-84.3339</td>\n",
       "      <td>33.7217</td>\n",
       "      <td>-84.397971</td>\n",
       "      <td>33.775766</td>\n",
       "      <td>450.0</td>\n",
       "      <td>POINT (-84.33390 33.72170)</td>\n",
       "      <td>1689</td>\n",
       "      <td>DeKalb</td>\n",
       "      <td>484</td>\n",
       "      <td>Fulton</td>\n",
       "    </tr>\n",
       "    <tr>\n",
       "      <th>453</th>\n",
       "      <td>681</td>\n",
       "      <td>-84.3360</td>\n",
       "      <td>33.7691</td>\n",
       "      <td>-84.397971</td>\n",
       "      <td>33.775766</td>\n",
       "      <td>420.0</td>\n",
       "      <td>POINT (-84.33600 33.76910)</td>\n",
       "      <td>1657</td>\n",
       "      <td>DeKalb</td>\n",
       "      <td>484</td>\n",
       "      <td>Fulton</td>\n",
       "    </tr>\n",
       "  </tbody>\n",
       "</table>\n",
       "</div>"
      ],
      "text/plain": [
       "      trip_id  orig_lon  orig_lat   dest_lon   dest_lat  new_min  \\\n",
       "1190     1896  -84.3169   33.7498 -84.397971  33.775766    450.0   \n",
       "573       861  -84.3339   33.7217 -84.397971  33.775766    450.0   \n",
       "453       681  -84.3360   33.7691 -84.397971  33.775766    420.0   \n",
       "\n",
       "                        geometry  orig_taz O_region  dest_taz D_region  \n",
       "1190  POINT (-84.31690 33.74980)      1646   DeKalb       484   Fulton  \n",
       "573   POINT (-84.33390 33.72170)      1689   DeKalb       484   Fulton  \n",
       "453   POINT (-84.33600 33.76910)      1657   DeKalb       484   Fulton  "
      ]
     },
     "execution_count": 8,
     "metadata": {},
     "output_type": "execute_result"
    }
   ],
   "source": [
    "gt_survey.sample(3)"
   ]
  },
  {
   "cell_type": "code",
   "execution_count": 9,
   "id": "5637677c-acf2-4e75-a758-eff6d9480f4a",
   "metadata": {},
   "outputs": [
    {
     "name": "stdout",
     "output_type": "stream",
     "text": [
      "(1539, 11)\n",
      "(1519, 11)\n"
     ]
    }
   ],
   "source": [
    "print(gt_survey.shape)\n",
    "filt = (gt_survey[\"orig_taz\"] != -1)\n",
    "gt_survey = gt_survey.loc[filt, :]\n",
    "print(gt_survey.shape)"
   ]
  },
  {
   "cell_type": "code",
   "execution_count": 10,
   "id": "47adc4d0-b8c6-4fd6-8223-27abe0cd1477",
   "metadata": {},
   "outputs": [
    {
     "name": "stdout",
     "output_type": "stream",
     "text": [
      "['Fulton' 'DeKalb' 'Carroll' 'Cobb' 'Fayette' 'Gwinnett' 'Douglas'\n",
      " 'Paulding' 'Clayton' 'Cherokee' 'Forsyth' 'Rockdale' 'Hall' 'Henry'\n",
      " 'Coweta' 'Newton' 'Barrow' 'Walton']\n",
      "['Fulton']\n"
     ]
    }
   ],
   "source": [
    "print(gt_survey.O_region.unique())\n",
    "print(gt_survey.D_region.unique())"
   ]
  },
  {
   "cell_type": "code",
   "execution_count": 11,
   "id": "39a8e8f6-2ad5-42fa-be4a-593ac87623a4",
   "metadata": {},
   "outputs": [],
   "source": [
    "# store results to data_outputs\n",
    "gt_survey.to_file(\n",
    "    os.path.join(\n",
    "        os.environ['data_inputs'], \n",
    "        \"cleaned\", \n",
    "        \"trips.shp\"\n",
    "    ),\n",
    "    crs=\"EPSG:4326\"\n",
    ")"
   ]
  },
  {
   "cell_type": "code",
   "execution_count": null,
   "id": "f740f324-3d4b-4858-9fd1-dd9897ed9e19",
   "metadata": {},
   "outputs": [],
   "source": []
  }
 ],
 "metadata": {
  "kernelspec": {
   "display_name": "Python 3 (ipykernel)",
   "language": "python",
   "name": "python3"
  },
  "language_info": {
   "codemirror_mode": {
    "name": "ipython",
    "version": 3
   },
   "file_extension": ".py",
   "mimetype": "text/x-python",
   "name": "python",
   "nbconvert_exporter": "python",
   "pygments_lexer": "ipython3",
   "version": "3.11.4"
  }
 },
 "nbformat": 4,
 "nbformat_minor": 5
}
