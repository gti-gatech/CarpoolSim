{
 "cells": [
  {
   "cell_type": "markdown",
   "metadata": {},
   "source": [
    "# Prepare Path Retention Database\n",
    "This notebook tries to read taz centriod files and regenerate all a list of OD pairs to calculate the path retention using the RoadwaySim. A big trip input table is prepared just by enumerating all OD trip combinations. Then the roadwaySim is run but the results are stored in a densed table using json data structure or a small database or csv files instead of a explicit path retention with time."
   ]
  },
  {
   "cell_type": "code",
   "execution_count": 1,
   "metadata": {},
   "outputs": [],
   "source": [
    "import os\n",
    "import sys\n",
    "\n",
    "import numpy as np\n",
    "import pandas as pd\n",
    "import geopandas as gpd\n",
    "\n",
    "# for auto-reloading external modules\n",
    "# see http://stackoverflow.com/questions/1907993/%autoreload-of-modules-in-ipython\n",
    "%load_ext autoreload\n",
    "%autoreload 2\n",
    "pd.options.display.max_columns = None  # display all columns"
   ]
  },
  {
   "cell_type": "code",
   "execution_count": 2,
   "metadata": {},
   "outputs": [],
   "source": [
    "# need to set this environmental path everytime you moves the project root folder\n",
    "os.environ['project_root'] = '/Users/geekduck/Dropbox/gt_survey'\n",
    "\n",
    "sys.path.append(\n",
    "    os.environ['project_root']\n",
    ")"
   ]
  },
  {
   "cell_type": "code",
   "execution_count": 3,
   "metadata": {},
   "outputs": [],
   "source": [
    "from carpoolsim.basic_settings import *"
   ]
  },
  {
   "cell_type": "code",
   "execution_count": 4,
   "metadata": {},
   "outputs": [],
   "source": [
    "# # rt = '/Users/diyi93/Dropbox/My Mac (Diyi’s MacBook Pro)'\n",
    "# rt = '/Users/geekduck/Dropbox/My Mac (Diyi’s MacBook Pro)'\n",
    "\n",
    "# # need to set this environmental path everytime you moves the project root folder\n",
    "# os.environ['PROJ_LIB'] = os.path.join(rt, 'Desktop/gra/CarpoolSim')\n",
    "# # another root directory for your data\n",
    "# os.environ['PORJ_DATA'] = os.path.join(rt, 'Desktop/Data/GIS/Atlanta/ARC ABM-20')\n",
    "\n",
    "# # trip data directory\n",
    "# os.environ['abm_data'] = os.path.join(rt, 'Desktop/Data/ABM/ABM processed data/')\n",
    "# # network data directory\n",
    "# os.environ['network_data'] = os.path.join(rt, 'Desktop/Data/GIS/Atlanta/2020')\n",
    "# # project root\n",
    "# os.environ['project_root'] = os.path.join(rt, 'Desktop/gra/CarpoolSim')"
   ]
  },
  {
   "cell_type": "markdown",
   "metadata": {},
   "source": [
    "1. Import centriods and generate all od pairs\n",
    "\n",
    "This is $5873 \\times {622} = 3653006$, less than four million trips to query."
   ]
  },
  {
   "cell_type": "code",
   "execution_count": 5,
   "metadata": {},
   "outputs": [],
   "source": [
    "# load taz centriod nodes, pnr nodes and  nodes\n",
    "taz_centriod_nodes = gpd.read_file(os.environ[\"taz\"])\n",
    "pnr_nodes = gpd.read_file(os.environ[\"parking_lots\"])\n",
    "\n",
    "# load original links and nodes (containing all connector and centriods, which construct a whole network)\n",
    "df_nodes_raw = gpd.read_file(os.environ['network_nodes'])\n",
    "df_links_raw = gpd.read_file(os.environ['network_links'])"
   ]
  },
  {
   "cell_type": "code",
   "execution_count": 8,
   "metadata": {},
   "outputs": [
    {
     "data": {
      "text/html": [
       "<div>\n",
       "<style scoped>\n",
       "    .dataframe tbody tr th:only-of-type {\n",
       "        vertical-align: middle;\n",
       "    }\n",
       "\n",
       "    .dataframe tbody tr th {\n",
       "        vertical-align: top;\n",
       "    }\n",
       "\n",
       "    .dataframe thead th {\n",
       "        text-align: right;\n",
       "    }\n",
       "</style>\n",
       "<table border=\"1\" class=\"dataframe\">\n",
       "  <thead>\n",
       "    <tr style=\"text-align: right;\">\n",
       "      <th></th>\n",
       "      <th>OBJECTID_1</th>\n",
       "      <th>OBJECTID</th>\n",
       "      <th>MTAZ10</th>\n",
       "      <th>CTAZ10</th>\n",
       "      <th>TRACT10</th>\n",
       "      <th>TAD10</th>\n",
       "      <th>SD10</th>\n",
       "      <th>FIPS</th>\n",
       "      <th>COUNTY</th>\n",
       "      <th>ACRES</th>\n",
       "      <th>GlobalID</th>\n",
       "      <th>last_edite</th>\n",
       "      <th>Shape_Leng</th>\n",
       "      <th>Shape_Area</th>\n",
       "      <th>TAZS</th>\n",
       "      <th>TAZS_int</th>\n",
       "      <th>layer</th>\n",
       "      <th>path</th>\n",
       "      <th>geometry</th>\n",
       "    </tr>\n",
       "  </thead>\n",
       "  <tbody>\n",
       "    <tr>\n",
       "      <th>0</th>\n",
       "      <td>1944</td>\n",
       "      <td>1944</td>\n",
       "      <td>1944</td>\n",
       "      <td>13067287</td>\n",
       "      <td>1.306703e+10</td>\n",
       "      <td>13067015</td>\n",
       "      <td>31</td>\n",
       "      <td>13067</td>\n",
       "      <td>Cobb</td>\n",
       "      <td>203.230808</td>\n",
       "      <td>{C13756E7-1C10-4B81-87F3-B571E3375C44}</td>\n",
       "      <td>None</td>\n",
       "      <td>0.040636</td>\n",
       "      <td>0.000080</td>\n",
       "      <td>1944</td>\n",
       "      <td>1944</td>\n",
       "      <td>None</td>\n",
       "      <td>None</td>\n",
       "      <td>POLYGON ((-84.67700 34.07407, -84.67706 34.073...</td>\n",
       "    </tr>\n",
       "    <tr>\n",
       "      <th>1</th>\n",
       "      <td>1945</td>\n",
       "      <td>1945</td>\n",
       "      <td>1945</td>\n",
       "      <td>13067287</td>\n",
       "      <td>1.306703e+10</td>\n",
       "      <td>13067015</td>\n",
       "      <td>31</td>\n",
       "      <td>13067</td>\n",
       "      <td>Cobb</td>\n",
       "      <td>118.580318</td>\n",
       "      <td>{8D479E02-EDB7-4719-A536-8146A6B81B6D}</td>\n",
       "      <td>None</td>\n",
       "      <td>0.027760</td>\n",
       "      <td>0.000047</td>\n",
       "      <td>1945</td>\n",
       "      <td>1945</td>\n",
       "      <td>None</td>\n",
       "      <td>None</td>\n",
       "      <td>POLYGON ((-84.67876 34.07370, -84.67820 34.073...</td>\n",
       "    </tr>\n",
       "    <tr>\n",
       "      <th>2</th>\n",
       "      <td>1946</td>\n",
       "      <td>1946</td>\n",
       "      <td>1946</td>\n",
       "      <td>13067286</td>\n",
       "      <td>1.306703e+10</td>\n",
       "      <td>13067015</td>\n",
       "      <td>31</td>\n",
       "      <td>13067</td>\n",
       "      <td>Cobb</td>\n",
       "      <td>587.259136</td>\n",
       "      <td>{E7E20B44-0D06-438F-8748-2746464CC5C5}</td>\n",
       "      <td>None</td>\n",
       "      <td>0.068585</td>\n",
       "      <td>0.000232</td>\n",
       "      <td>1946</td>\n",
       "      <td>1946</td>\n",
       "      <td>None</td>\n",
       "      <td>None</td>\n",
       "      <td>POLYGON ((-84.67642 34.07830, -84.67494 34.078...</td>\n",
       "    </tr>\n",
       "    <tr>\n",
       "      <th>3</th>\n",
       "      <td>1947</td>\n",
       "      <td>1947</td>\n",
       "      <td>1947</td>\n",
       "      <td>13067286</td>\n",
       "      <td>1.306703e+10</td>\n",
       "      <td>13067015</td>\n",
       "      <td>31</td>\n",
       "      <td>13067</td>\n",
       "      <td>Cobb</td>\n",
       "      <td>71.448426</td>\n",
       "      <td>{A2A315F1-A5CD-4B8B-B9F8-06F33FC2E9CF}</td>\n",
       "      <td>None</td>\n",
       "      <td>0.022855</td>\n",
       "      <td>0.000028</td>\n",
       "      <td>1947</td>\n",
       "      <td>1947</td>\n",
       "      <td>None</td>\n",
       "      <td>None</td>\n",
       "      <td>POLYGON ((-84.66004 34.06479, -84.66006 34.064...</td>\n",
       "    </tr>\n",
       "    <tr>\n",
       "      <th>4</th>\n",
       "      <td>1948</td>\n",
       "      <td>1948</td>\n",
       "      <td>1948</td>\n",
       "      <td>13067285</td>\n",
       "      <td>1.306703e+10</td>\n",
       "      <td>13067015</td>\n",
       "      <td>31</td>\n",
       "      <td>13067</td>\n",
       "      <td>Cobb</td>\n",
       "      <td>290.041893</td>\n",
       "      <td>{CCE4641A-542D-450A-9A8C-688DA3353D1C}</td>\n",
       "      <td>None</td>\n",
       "      <td>0.043399</td>\n",
       "      <td>0.000115</td>\n",
       "      <td>1948</td>\n",
       "      <td>1948</td>\n",
       "      <td>None</td>\n",
       "      <td>None</td>\n",
       "      <td>POLYGON ((-84.65346 34.06250, -84.65389 34.062...</td>\n",
       "    </tr>\n",
       "  </tbody>\n",
       "</table>\n",
       "</div>"
      ],
      "text/plain": [
       "   OBJECTID_1  OBJECTID  MTAZ10    CTAZ10       TRACT10     TAD10  SD10  \\\n",
       "0        1944      1944    1944  13067287  1.306703e+10  13067015    31   \n",
       "1        1945      1945    1945  13067287  1.306703e+10  13067015    31   \n",
       "2        1946      1946    1946  13067286  1.306703e+10  13067015    31   \n",
       "3        1947      1947    1947  13067286  1.306703e+10  13067015    31   \n",
       "4        1948      1948    1948  13067285  1.306703e+10  13067015    31   \n",
       "\n",
       "    FIPS COUNTY       ACRES                                GlobalID  \\\n",
       "0  13067   Cobb  203.230808  {C13756E7-1C10-4B81-87F3-B571E3375C44}   \n",
       "1  13067   Cobb  118.580318  {8D479E02-EDB7-4719-A536-8146A6B81B6D}   \n",
       "2  13067   Cobb  587.259136  {E7E20B44-0D06-438F-8748-2746464CC5C5}   \n",
       "3  13067   Cobb   71.448426  {A2A315F1-A5CD-4B8B-B9F8-06F33FC2E9CF}   \n",
       "4  13067   Cobb  290.041893  {CCE4641A-542D-450A-9A8C-688DA3353D1C}   \n",
       "\n",
       "  last_edite  Shape_Leng  Shape_Area  TAZS  TAZS_int layer  path  \\\n",
       "0       None    0.040636    0.000080  1944      1944  None  None   \n",
       "1       None    0.027760    0.000047  1945      1945  None  None   \n",
       "2       None    0.068585    0.000232  1946      1946  None  None   \n",
       "3       None    0.022855    0.000028  1947      1947  None  None   \n",
       "4       None    0.043399    0.000115  1948      1948  None  None   \n",
       "\n",
       "                                            geometry  \n",
       "0  POLYGON ((-84.67700 34.07407, -84.67706 34.073...  \n",
       "1  POLYGON ((-84.67876 34.07370, -84.67820 34.073...  \n",
       "2  POLYGON ((-84.67642 34.07830, -84.67494 34.078...  \n",
       "3  POLYGON ((-84.66004 34.06479, -84.66006 34.064...  \n",
       "4  POLYGON ((-84.65346 34.06250, -84.65389 34.062...  "
      ]
     },
     "metadata": {},
     "output_type": "display_data"
    },
    {
     "data": {
      "text/html": [
       "<div>\n",
       "<style scoped>\n",
       "    .dataframe tbody tr th:only-of-type {\n",
       "        vertical-align: middle;\n",
       "    }\n",
       "\n",
       "    .dataframe tbody tr th {\n",
       "        vertical-align: top;\n",
       "    }\n",
       "\n",
       "    .dataframe thead th {\n",
       "        text-align: right;\n",
       "    }\n",
       "</style>\n",
       "<table border=\"1\" class=\"dataframe\">\n",
       "  <thead>\n",
       "    <tr style=\"text-align: right;\">\n",
       "      <th></th>\n",
       "      <th>N</th>\n",
       "      <th>X</th>\n",
       "      <th>Y</th>\n",
       "      <th>STATION</th>\n",
       "      <th>STAFLAG</th>\n",
       "      <th>PNR</th>\n",
       "      <th>PNR_MAJOR</th>\n",
       "      <th>GEOMETRYSO</th>\n",
       "      <th>lat</th>\n",
       "      <th>lon</th>\n",
       "      <th>geometry</th>\n",
       "    </tr>\n",
       "  </thead>\n",
       "  <tbody>\n",
       "    <tr>\n",
       "      <th>0</th>\n",
       "      <td>1</td>\n",
       "      <td>2.220979e+06</td>\n",
       "      <td>1.483122e+06</td>\n",
       "      <td>None</td>\n",
       "      <td>0</td>\n",
       "      <td>0</td>\n",
       "      <td>0</td>\n",
       "      <td>1</td>\n",
       "      <td>34.076861</td>\n",
       "      <td>-84.416355</td>\n",
       "      <td>POINT (-84.41636 34.07686)</td>\n",
       "    </tr>\n",
       "    <tr>\n",
       "      <th>1</th>\n",
       "      <td>2</td>\n",
       "      <td>2.222861e+06</td>\n",
       "      <td>1.479567e+06</td>\n",
       "      <td>None</td>\n",
       "      <td>0</td>\n",
       "      <td>0</td>\n",
       "      <td>0</td>\n",
       "      <td>1</td>\n",
       "      <td>34.067103</td>\n",
       "      <td>-84.410110</td>\n",
       "      <td>POINT (-84.41011 34.06710)</td>\n",
       "    </tr>\n",
       "    <tr>\n",
       "      <th>2</th>\n",
       "      <td>3</td>\n",
       "      <td>2.226472e+06</td>\n",
       "      <td>1.484525e+06</td>\n",
       "      <td>None</td>\n",
       "      <td>0</td>\n",
       "      <td>0</td>\n",
       "      <td>0</td>\n",
       "      <td>1</td>\n",
       "      <td>34.080752</td>\n",
       "      <td>-84.398224</td>\n",
       "      <td>POINT (-84.39822 34.08075)</td>\n",
       "    </tr>\n",
       "    <tr>\n",
       "      <th>3</th>\n",
       "      <td>4</td>\n",
       "      <td>2.233517e+06</td>\n",
       "      <td>1.483418e+06</td>\n",
       "      <td>None</td>\n",
       "      <td>0</td>\n",
       "      <td>0</td>\n",
       "      <td>0</td>\n",
       "      <td>1</td>\n",
       "      <td>34.077750</td>\n",
       "      <td>-84.374950</td>\n",
       "      <td>POINT (-84.37495 34.07775)</td>\n",
       "    </tr>\n",
       "    <tr>\n",
       "      <th>4</th>\n",
       "      <td>5</td>\n",
       "      <td>2.236754e+06</td>\n",
       "      <td>1.485119e+06</td>\n",
       "      <td>None</td>\n",
       "      <td>0</td>\n",
       "      <td>0</td>\n",
       "      <td>0</td>\n",
       "      <td>1</td>\n",
       "      <td>34.082443</td>\n",
       "      <td>-84.364269</td>\n",
       "      <td>POINT (-84.36427 34.08244)</td>\n",
       "    </tr>\n",
       "  </tbody>\n",
       "</table>\n",
       "</div>"
      ],
      "text/plain": [
       "   N             X             Y STATION  STAFLAG  PNR  PNR_MAJOR  GEOMETRYSO  \\\n",
       "0  1  2.220979e+06  1.483122e+06    None        0    0          0           1   \n",
       "1  2  2.222861e+06  1.479567e+06    None        0    0          0           1   \n",
       "2  3  2.226472e+06  1.484525e+06    None        0    0          0           1   \n",
       "3  4  2.233517e+06  1.483418e+06    None        0    0          0           1   \n",
       "4  5  2.236754e+06  1.485119e+06    None        0    0          0           1   \n",
       "\n",
       "         lat        lon                    geometry  \n",
       "0  34.076861 -84.416355  POINT (-84.41636 34.07686)  \n",
       "1  34.067103 -84.410110  POINT (-84.41011 34.06710)  \n",
       "2  34.080752 -84.398224  POINT (-84.39822 34.08075)  \n",
       "3  34.077750 -84.374950  POINT (-84.37495 34.07775)  \n",
       "4  34.082443 -84.364269  POINT (-84.36427 34.08244)  "
      ]
     },
     "metadata": {},
     "output_type": "display_data"
    }
   ],
   "source": [
    "display(taz_centriod_nodes.head())\n",
    "display(df_links_raw.head())"
   ]
  },
  {
   "cell_type": "code",
   "execution_count": 5,
   "metadata": {
    "scrolled": true
   },
   "outputs": [],
   "source": [
    "source_lst = list(range(5873))  # a list of sources (here is all taz number)\n",
    "destinations_lst = list(range(54,70))  # a list of interested taz destinations"
   ]
  },
  {
   "cell_type": "markdown",
   "metadata": {},
   "source": [
    "## Generate the Network Graph\n",
    "\n",
    "After we got the task. We need to run the a dijkstra algorithm once for each source. (Notice that if the number of destinations are small then we can compute the reversed graph to save computation time)\n",
    "\n",
    "\n",
    "Let's try to solve shortest paths for the above tasks. **Frist of all, we need to get the network graph**"
   ]
  },
  {
   "cell_type": "code",
   "execution_count": 6,
   "metadata": {},
   "outputs": [],
   "source": [
    "import os\n",
    "import sys\n",
    "\n",
    "code_root = os.path.join(os.getcwd(), \"core_script\")\n",
    "sys.path.append(code_root)"
   ]
  },
  {
   "cell_type": "code",
   "execution_count": 7,
   "metadata": {},
   "outputs": [],
   "source": [
    "# import BikeSim module\n",
    "from core_script.getPaths_bikewaySim import (\n",
    "    initialize_abm15_links,\n",
    "    build_carpool_network,\n",
    ")"
   ]
  },
  {
   "cell_type": "code",
   "execution_count": 8,
   "metadata": {},
   "outputs": [
    {
     "name": "stdout",
     "output_type": "stream",
     "text": [
      "** Initialize carpool network **\n"
     ]
    },
    {
     "data": {
      "text/html": [
       "<div>\n",
       "<style scoped>\n",
       "    .dataframe tbody tr th:only-of-type {\n",
       "        vertical-align: middle;\n",
       "    }\n",
       "\n",
       "    .dataframe tbody tr th {\n",
       "        vertical-align: top;\n",
       "    }\n",
       "\n",
       "    .dataframe thead th {\n",
       "        text-align: right;\n",
       "    }\n",
       "</style>\n",
       "<table border=\"1\" class=\"dataframe\">\n",
       "  <thead>\n",
       "    <tr style=\"text-align: right;\">\n",
       "      <th></th>\n",
       "      <th>A</th>\n",
       "      <th>B</th>\n",
       "      <th>A_B</th>\n",
       "      <th>geometry</th>\n",
       "      <th>SPEED_LIMI</th>\n",
       "      <th>DISTANCE</th>\n",
       "      <th>NAME</th>\n",
       "      <th>FACTYPE</th>\n",
       "      <th>Ax</th>\n",
       "      <th>Ay</th>\n",
       "      <th>A_lat</th>\n",
       "      <th>A_lon</th>\n",
       "      <th>Bx</th>\n",
       "      <th>By</th>\n",
       "      <th>B_lat</th>\n",
       "      <th>B_lon</th>\n",
       "      <th>minx_sq</th>\n",
       "      <th>miny_sq</th>\n",
       "      <th>maxx_sq</th>\n",
       "      <th>maxy_sq</th>\n",
       "    </tr>\n",
       "  </thead>\n",
       "  <tbody>\n",
       "    <tr>\n",
       "      <th>0</th>\n",
       "      <td>1</td>\n",
       "      <td>65666</td>\n",
       "      <td>1_65666</td>\n",
       "      <td>LINESTRING (2220978.672 1483122.486, 2221582.3...</td>\n",
       "      <td>35</td>\n",
       "      <td>0.23355</td>\n",
       "      <td>None</td>\n",
       "      <td>0</td>\n",
       "      <td>2.220979e+06</td>\n",
       "      <td>1.483122e+06</td>\n",
       "      <td>34.076861</td>\n",
       "      <td>-84.416355</td>\n",
       "      <td>2.221582e+06</td>\n",
       "      <td>1.484198e+06</td>\n",
       "      <td>34.07982</td>\n",
       "      <td>-84.41437</td>\n",
       "      <td>89.0</td>\n",
       "      <td>59.0</td>\n",
       "      <td>89.0</td>\n",
       "      <td>59.0</td>\n",
       "    </tr>\n",
       "    <tr>\n",
       "      <th>1</th>\n",
       "      <td>1</td>\n",
       "      <td>80483</td>\n",
       "      <td>1_80483</td>\n",
       "      <td>LINESTRING (2220978.672 1483122.486, 2220402.3...</td>\n",
       "      <td>35</td>\n",
       "      <td>0.44684</td>\n",
       "      <td>None</td>\n",
       "      <td>0</td>\n",
       "      <td>2.220979e+06</td>\n",
       "      <td>1.483122e+06</td>\n",
       "      <td>34.076861</td>\n",
       "      <td>-84.416355</td>\n",
       "      <td>2.220402e+06</td>\n",
       "      <td>1.480835e+06</td>\n",
       "      <td>34.07057</td>\n",
       "      <td>-84.41824</td>\n",
       "      <td>89.0</td>\n",
       "      <td>59.0</td>\n",
       "      <td>89.0</td>\n",
       "      <td>59.0</td>\n",
       "    </tr>\n",
       "  </tbody>\n",
       "</table>\n",
       "</div>"
      ],
      "text/plain": [
       "   A      B      A_B                                           geometry  \\\n",
       "0  1  65666  1_65666  LINESTRING (2220978.672 1483122.486, 2221582.3...   \n",
       "1  1  80483  1_80483  LINESTRING (2220978.672 1483122.486, 2220402.3...   \n",
       "\n",
       "   SPEED_LIMI  DISTANCE  NAME  FACTYPE            Ax            Ay      A_lat  \\\n",
       "0          35   0.23355  None        0  2.220979e+06  1.483122e+06  34.076861   \n",
       "1          35   0.44684  None        0  2.220979e+06  1.483122e+06  34.076861   \n",
       "\n",
       "       A_lon            Bx            By     B_lat     B_lon  minx_sq  \\\n",
       "0 -84.416355  2.221582e+06  1.484198e+06  34.07982 -84.41437     89.0   \n",
       "1 -84.416355  2.220402e+06  1.480835e+06  34.07057 -84.41824     89.0   \n",
       "\n",
       "   miny_sq  maxx_sq  maxy_sq  \n",
       "0     59.0     89.0     59.0  \n",
       "1     59.0     89.0     59.0  "
      ]
     },
     "execution_count": 8,
     "metadata": {},
     "output_type": "execute_result"
    }
   ],
   "source": [
    "print('** Initialize carpool network **')\n",
    "df_links = initialize_abm15_links(drop_connector=False)\n",
    "df_links.head(2)"
   ]
  },
  {
   "cell_type": "code",
   "execution_count": 9,
   "metadata": {},
   "outputs": [
    {
     "name": "stdout",
     "output_type": "stream",
     "text": [
      "** build RoadwaySim network **\n"
     ]
    }
   ],
   "source": [
    "# build networkx graph takes less than two minutes\n",
    "print('** build RoadwaySim network **')\n",
    "dict_bike = {'DG': build_carpool_network(df_links), 'links': df_links} # use default speed 45 mph"
   ]
  },
  {
   "cell_type": "code",
   "execution_count": 10,
   "metadata": {},
   "outputs": [
    {
     "name": "stdout",
     "output_type": "stream",
     "text": [
      "{'dist': 0.23355, 'name': None, 'forward': 0.40037142857142854, 'backward': 0.40037142857142854}\n",
      "{'dist': 0.23355, 'name': None, 'backward': 0.40037142857142854, 'forward': 0.40037142857142854}\n"
     ]
    }
   ],
   "source": [
    "print(dict_bike['DG']['1']['65666'])\n",
    "print(dict_bike['DG']['65666']['1'])"
   ]
  },
  {
   "cell_type": "code",
   "execution_count": 11,
   "metadata": {},
   "outputs": [],
   "source": [
    "from core_script.getPaths_bikewaySim import run_batch_ods"
   ]
  },
  {
   "cell_type": "code",
   "execution_count": 12,
   "metadata": {},
   "outputs": [
    {
     "name": "stdout",
     "output_type": "stream",
     "text": [
      "It takes 0.09407782554626465 seconds to run\n"
     ]
    }
   ],
   "source": [
    "# only record results to centroids\n",
    "destination_lst = list(range(1,5874))\n",
    "destination_lst = [ str(i) for i in destination_lst]\n",
    "import time\n",
    "t1 = time.time()\n",
    "dists_dict, paths_dict = run_batch_ods(dict_bike['DG'], '1', destination_lst, weight='backward')\n",
    "delta_t = time.time() - t1\n",
    "print('It takes {} seconds to run'.format(delta_t))"
   ]
  },
  {
   "cell_type": "code",
   "execution_count": 13,
   "metadata": {
    "scrolled": true
   },
   "outputs": [
    {
     "name": "stdout",
     "output_type": "stream",
     "text": [
      "67.01371002164502\n"
     ]
    }
   ],
   "source": [
    "print(dists_dict['5000'])  # '5000' ==> '1'"
   ]
  },
  {
   "cell_type": "code",
   "execution_count": 14,
   "metadata": {},
   "outputs": [
    {
     "name": "stdout",
     "output_type": "stream",
     "text": [
      "67.55646746753247\n"
     ]
    }
   ],
   "source": [
    "# a shortest path from taz centroid 1 to taz centroid 2000\n",
    "dists_dict, paths_dict = run_batch_ods(\n",
    "    dict_bike['DG'], '1', destination_lst, weight='forward')\n",
    "print(dists_dict['5000'])  # '1' ==> '5000'"
   ]
  },
  {
   "cell_type": "markdown",
   "metadata": {},
   "source": [
    "# Summary\n",
    "It seems like calculate a single taz source to all destinations is \"fast\" (~0.1 second). We can easily regenerate all shortest paths between any two centroids by enumerating every source once.\n",
    "\n",
    "Also, multiprocessing is used to speed up the process..."
   ]
  },
  {
   "cell_type": "code",
   "execution_count": 94,
   "metadata": {},
   "outputs": [],
   "source": [
    "import multiprocess  # not multiprocessing\n",
    "import time\n",
    "import pickle"
   ]
  },
  {
   "cell_type": "code",
   "execution_count": 95,
   "metadata": {},
   "outputs": [],
   "source": [
    "destination_lst = list(range(1,5874))\n",
    "destination_lst = [str(i) for i in destination_lst]"
   ]
  },
  {
   "cell_type": "code",
   "execution_count": 96,
   "metadata": {},
   "outputs": [],
   "source": [
    "def get_shortest_paths(source_taz_lst):\n",
    "    path_retention_dists, path_retention_paths = {}, {}\n",
    "    t1 = time.time()\n",
    "    taz_lst = []\n",
    "    for taz in source_taz_lst:\n",
    "        dists_dict, paths_dict = run_batch_ods(\n",
    "            dict_bike['DG'], str(taz), destination_lst, weight='forward')\n",
    "        path_retention_dists[str(taz)] = dists_dict\n",
    "        path_retention_paths[str(taz)] = paths_dict\n",
    "        taz_lst.append(str(taz))\n",
    "    \n",
    "    print(f'Finished searching {len(source_taz_lst)} tazs')\n",
    "    # store values in disk instead of holding all of the memories\n",
    "    db = {}\n",
    "    db['dist'] = path_retention_dists\n",
    "    db['path'] = path_retention_paths\n",
    "\n",
    "    first_taz = source_taz_lst[0]\n",
    "    last_taz_id = source_taz_lst[-1]\n",
    "    folder = \"build_graph/path_retention\"\n",
    "    file_name = f'paths_retention_{first_taz:04d}_{last_taz_id:04d}.pickle'\n",
    "    fname = os.path.join(folder, file_name)\n",
    "    with open(fname, 'wb') as dbfile:\n",
    "        pickle.dump(db, dbfile)"
   ]
  },
  {
   "cell_type": "code",
   "execution_count": 97,
   "metadata": {},
   "outputs": [],
   "source": [
    "# path_retention_dists, path_retention_paths = {}, {}\n",
    "taz_lst = []\n",
    "for i in range(58):\n",
    "    _lst = list(range(i*100+1, (i+1)*100+1))\n",
    "    taz_lst.append(_lst)\n",
    "taz_lst.append(list(range(5801, 5874)))"
   ]
  },
  {
   "cell_type": "code",
   "execution_count": 98,
   "metadata": {},
   "outputs": [
    {
     "name": "stdout",
     "output_type": "stream",
     "text": [
      "5873\n"
     ]
    }
   ],
   "source": [
    "count_tazs = 0\n",
    "for taz in taz_lst:\n",
    "    count_tazs += len(taz)\n",
    "    # print(taz)\n",
    "print(count_tazs)"
   ]
  },
  {
   "cell_type": "code",
   "execution_count": 99,
   "metadata": {},
   "outputs": [
    {
     "name": "stdout",
     "output_type": "stream",
     "text": [
      "Finished searching 100 tazs\n",
      "Finished searching 100 tazs\n",
      "Finished searching 100 tazs\n",
      "Finished searching 100 tazs\n",
      "Finished searching 100 tazs\n",
      "Finished searching 100 tazs\n",
      "Finished searching 100 tazs\n",
      "Finished searching 100 tazs\n",
      "Finished searching 100 tazs\n",
      "Finished searching 100 tazs\n",
      "Finished searching 100 tazs\n",
      "Finished searching 100 tazs\n",
      "Finished searching 100 tazs\n",
      "Finished searching 100 tazs\n",
      "Finished searching 100 tazs\n",
      "Finished searching 100 tazs\n",
      "Finished searching 100 tazs\n",
      "Finished searching 100 tazs\n",
      "Finished searching 100 tazs\n",
      "Finished searching 100 tazs\n",
      "Finished searching 100 tazs\n",
      "Finished searching 100 tazs\n",
      "Finished searching 100 tazs\n",
      "Finished searching 100 tazs\n",
      "Finished searching 100 tazs\n",
      "Finished searching 100 tazs\n",
      "Finished searching 100 tazs\n",
      "Finished searching 100 tazs\n",
      "Finished searching 100 tazs\n",
      "Finished searching 100 tazs\n",
      "Finished searching 100 tazs\n",
      "Finished searching 100 tazs\n",
      "Finished searching 100 tazs\n",
      "Finished searching 100 tazs\n",
      "Finished searching 100 tazs\n",
      "Finished searching 100 tazs\n",
      "Finished searching 100 tazs\n",
      "Finished searching 100 tazs\n",
      "Finished searching 100 tazs\n",
      "Finished searching 100 tazs\n",
      "Finished searching 100 tazs\n",
      "Finished searching 100 tazs\n",
      "Finished searching 100 tazs\n",
      "Finished searching 100 tazs\n",
      "Finished searching 100 tazs\n",
      "Finished searching 100 tazs\n",
      "Finished searching 100 tazs\n",
      "Finished searching 100 tazs\n",
      "Finished searching 73 tazs\n",
      "Finished searching 100 tazs\n",
      "Finished searching 100 tazs\n",
      "Finished searching 100 tazs\n",
      "Finished searching 100 tazs\n",
      "Finished searching 100 tazs\n",
      "Finished searching 100 tazs\n",
      "Finished searching 100 tazs\n",
      "Finished searching 100 tazs\n",
      "Finished searching 100 tazs\n",
      "Finished searching 100 tazs\n",
      "It takes 1.9 minutes to finish the run\n"
     ]
    }
   ],
   "source": [
    "t0 = time.perf_counter()\n",
    "with multiprocess.Pool(12) as pool:\n",
    "    results = pool.map(get_shortest_paths, taz_lst)\n",
    "\n",
    "d1 = time.perf_counter() - t0\n",
    "print(f'It takes {d1/60:.1f} minutes to finish the run')"
   ]
  },
  {
   "cell_type": "markdown",
   "metadata": {},
   "source": [
    "# Store results in a database\n",
    "\n",
    "At least two datasets are provided:\n",
    "- Option 1: sqlite\n",
    "- Option 2: PostgreSQL"
   ]
  },
  {
   "cell_type": "code",
   "execution_count": 100,
   "metadata": {
    "scrolled": true
   },
   "outputs": [
    {
     "data": {
      "text/plain": [
       "['/Users/geekduck/Dropbox/My Mac (Diyi’s MacBook Pro)/Desktop/gra/CarpoolSim/build_graph/path_retention/paths_retention_0001_0100.pickle',\n",
       " '/Users/geekduck/Dropbox/My Mac (Diyi’s MacBook Pro)/Desktop/gra/CarpoolSim/build_graph/path_retention/paths_retention_0101_0200.pickle',\n",
       " '/Users/geekduck/Dropbox/My Mac (Diyi’s MacBook Pro)/Desktop/gra/CarpoolSim/build_graph/path_retention/paths_retention_0201_0300.pickle',\n",
       " '/Users/geekduck/Dropbox/My Mac (Diyi’s MacBook Pro)/Desktop/gra/CarpoolSim/build_graph/path_retention/paths_retention_0301_0400.pickle',\n",
       " '/Users/geekduck/Dropbox/My Mac (Diyi’s MacBook Pro)/Desktop/gra/CarpoolSim/build_graph/path_retention/paths_retention_0401_0500.pickle',\n",
       " '/Users/geekduck/Dropbox/My Mac (Diyi’s MacBook Pro)/Desktop/gra/CarpoolSim/build_graph/path_retention/paths_retention_0501_0600.pickle',\n",
       " '/Users/geekduck/Dropbox/My Mac (Diyi’s MacBook Pro)/Desktop/gra/CarpoolSim/build_graph/path_retention/paths_retention_0601_0700.pickle',\n",
       " '/Users/geekduck/Dropbox/My Mac (Diyi’s MacBook Pro)/Desktop/gra/CarpoolSim/build_graph/path_retention/paths_retention_0701_0800.pickle',\n",
       " '/Users/geekduck/Dropbox/My Mac (Diyi’s MacBook Pro)/Desktop/gra/CarpoolSim/build_graph/path_retention/paths_retention_0801_0900.pickle',\n",
       " '/Users/geekduck/Dropbox/My Mac (Diyi’s MacBook Pro)/Desktop/gra/CarpoolSim/build_graph/path_retention/paths_retention_0901_1000.pickle',\n",
       " '/Users/geekduck/Dropbox/My Mac (Diyi’s MacBook Pro)/Desktop/gra/CarpoolSim/build_graph/path_retention/paths_retention_1001_1100.pickle',\n",
       " '/Users/geekduck/Dropbox/My Mac (Diyi’s MacBook Pro)/Desktop/gra/CarpoolSim/build_graph/path_retention/paths_retention_1101_1200.pickle',\n",
       " '/Users/geekduck/Dropbox/My Mac (Diyi’s MacBook Pro)/Desktop/gra/CarpoolSim/build_graph/path_retention/paths_retention_1201_1300.pickle',\n",
       " '/Users/geekduck/Dropbox/My Mac (Diyi’s MacBook Pro)/Desktop/gra/CarpoolSim/build_graph/path_retention/paths_retention_1301_1400.pickle',\n",
       " '/Users/geekduck/Dropbox/My Mac (Diyi’s MacBook Pro)/Desktop/gra/CarpoolSim/build_graph/path_retention/paths_retention_1401_1500.pickle',\n",
       " '/Users/geekduck/Dropbox/My Mac (Diyi’s MacBook Pro)/Desktop/gra/CarpoolSim/build_graph/path_retention/paths_retention_1501_1600.pickle',\n",
       " '/Users/geekduck/Dropbox/My Mac (Diyi’s MacBook Pro)/Desktop/gra/CarpoolSim/build_graph/path_retention/paths_retention_1601_1700.pickle',\n",
       " '/Users/geekduck/Dropbox/My Mac (Diyi’s MacBook Pro)/Desktop/gra/CarpoolSim/build_graph/path_retention/paths_retention_1701_1800.pickle',\n",
       " '/Users/geekduck/Dropbox/My Mac (Diyi’s MacBook Pro)/Desktop/gra/CarpoolSim/build_graph/path_retention/paths_retention_1801_1900.pickle',\n",
       " '/Users/geekduck/Dropbox/My Mac (Diyi’s MacBook Pro)/Desktop/gra/CarpoolSim/build_graph/path_retention/paths_retention_1901_2000.pickle',\n",
       " '/Users/geekduck/Dropbox/My Mac (Diyi’s MacBook Pro)/Desktop/gra/CarpoolSim/build_graph/path_retention/paths_retention_2001_2100.pickle',\n",
       " '/Users/geekduck/Dropbox/My Mac (Diyi’s MacBook Pro)/Desktop/gra/CarpoolSim/build_graph/path_retention/paths_retention_2101_2200.pickle',\n",
       " '/Users/geekduck/Dropbox/My Mac (Diyi’s MacBook Pro)/Desktop/gra/CarpoolSim/build_graph/path_retention/paths_retention_2201_2300.pickle',\n",
       " '/Users/geekduck/Dropbox/My Mac (Diyi’s MacBook Pro)/Desktop/gra/CarpoolSim/build_graph/path_retention/paths_retention_2301_2400.pickle',\n",
       " '/Users/geekduck/Dropbox/My Mac (Diyi’s MacBook Pro)/Desktop/gra/CarpoolSim/build_graph/path_retention/paths_retention_2401_2500.pickle',\n",
       " '/Users/geekduck/Dropbox/My Mac (Diyi’s MacBook Pro)/Desktop/gra/CarpoolSim/build_graph/path_retention/paths_retention_2501_2600.pickle',\n",
       " '/Users/geekduck/Dropbox/My Mac (Diyi’s MacBook Pro)/Desktop/gra/CarpoolSim/build_graph/path_retention/paths_retention_2601_2700.pickle',\n",
       " '/Users/geekduck/Dropbox/My Mac (Diyi’s MacBook Pro)/Desktop/gra/CarpoolSim/build_graph/path_retention/paths_retention_2701_2800.pickle',\n",
       " '/Users/geekduck/Dropbox/My Mac (Diyi’s MacBook Pro)/Desktop/gra/CarpoolSim/build_graph/path_retention/paths_retention_2801_2900.pickle',\n",
       " '/Users/geekduck/Dropbox/My Mac (Diyi’s MacBook Pro)/Desktop/gra/CarpoolSim/build_graph/path_retention/paths_retention_2901_3000.pickle',\n",
       " '/Users/geekduck/Dropbox/My Mac (Diyi’s MacBook Pro)/Desktop/gra/CarpoolSim/build_graph/path_retention/paths_retention_3001_3100.pickle',\n",
       " '/Users/geekduck/Dropbox/My Mac (Diyi’s MacBook Pro)/Desktop/gra/CarpoolSim/build_graph/path_retention/paths_retention_3101_3200.pickle',\n",
       " '/Users/geekduck/Dropbox/My Mac (Diyi’s MacBook Pro)/Desktop/gra/CarpoolSim/build_graph/path_retention/paths_retention_3201_3300.pickle',\n",
       " '/Users/geekduck/Dropbox/My Mac (Diyi’s MacBook Pro)/Desktop/gra/CarpoolSim/build_graph/path_retention/paths_retention_3301_3400.pickle',\n",
       " '/Users/geekduck/Dropbox/My Mac (Diyi’s MacBook Pro)/Desktop/gra/CarpoolSim/build_graph/path_retention/paths_retention_3401_3500.pickle',\n",
       " '/Users/geekduck/Dropbox/My Mac (Diyi’s MacBook Pro)/Desktop/gra/CarpoolSim/build_graph/path_retention/paths_retention_3501_3600.pickle',\n",
       " '/Users/geekduck/Dropbox/My Mac (Diyi’s MacBook Pro)/Desktop/gra/CarpoolSim/build_graph/path_retention/paths_retention_3601_3700.pickle',\n",
       " '/Users/geekduck/Dropbox/My Mac (Diyi’s MacBook Pro)/Desktop/gra/CarpoolSim/build_graph/path_retention/paths_retention_3701_3800.pickle',\n",
       " '/Users/geekduck/Dropbox/My Mac (Diyi’s MacBook Pro)/Desktop/gra/CarpoolSim/build_graph/path_retention/paths_retention_3801_3900.pickle',\n",
       " '/Users/geekduck/Dropbox/My Mac (Diyi’s MacBook Pro)/Desktop/gra/CarpoolSim/build_graph/path_retention/paths_retention_3901_4000.pickle',\n",
       " '/Users/geekduck/Dropbox/My Mac (Diyi’s MacBook Pro)/Desktop/gra/CarpoolSim/build_graph/path_retention/paths_retention_4001_4100.pickle',\n",
       " '/Users/geekduck/Dropbox/My Mac (Diyi’s MacBook Pro)/Desktop/gra/CarpoolSim/build_graph/path_retention/paths_retention_4101_4200.pickle',\n",
       " '/Users/geekduck/Dropbox/My Mac (Diyi’s MacBook Pro)/Desktop/gra/CarpoolSim/build_graph/path_retention/paths_retention_4201_4300.pickle',\n",
       " '/Users/geekduck/Dropbox/My Mac (Diyi’s MacBook Pro)/Desktop/gra/CarpoolSim/build_graph/path_retention/paths_retention_4301_4400.pickle',\n",
       " '/Users/geekduck/Dropbox/My Mac (Diyi’s MacBook Pro)/Desktop/gra/CarpoolSim/build_graph/path_retention/paths_retention_4401_4500.pickle',\n",
       " '/Users/geekduck/Dropbox/My Mac (Diyi’s MacBook Pro)/Desktop/gra/CarpoolSim/build_graph/path_retention/paths_retention_4501_4600.pickle',\n",
       " '/Users/geekduck/Dropbox/My Mac (Diyi’s MacBook Pro)/Desktop/gra/CarpoolSim/build_graph/path_retention/paths_retention_4601_4700.pickle',\n",
       " '/Users/geekduck/Dropbox/My Mac (Diyi’s MacBook Pro)/Desktop/gra/CarpoolSim/build_graph/path_retention/paths_retention_4701_4800.pickle',\n",
       " '/Users/geekduck/Dropbox/My Mac (Diyi’s MacBook Pro)/Desktop/gra/CarpoolSim/build_graph/path_retention/paths_retention_4801_4900.pickle',\n",
       " '/Users/geekduck/Dropbox/My Mac (Diyi’s MacBook Pro)/Desktop/gra/CarpoolSim/build_graph/path_retention/paths_retention_4901_5000.pickle',\n",
       " '/Users/geekduck/Dropbox/My Mac (Diyi’s MacBook Pro)/Desktop/gra/CarpoolSim/build_graph/path_retention/paths_retention_5001_5100.pickle',\n",
       " '/Users/geekduck/Dropbox/My Mac (Diyi’s MacBook Pro)/Desktop/gra/CarpoolSim/build_graph/path_retention/paths_retention_5101_5200.pickle',\n",
       " '/Users/geekduck/Dropbox/My Mac (Diyi’s MacBook Pro)/Desktop/gra/CarpoolSim/build_graph/path_retention/paths_retention_5201_5300.pickle',\n",
       " '/Users/geekduck/Dropbox/My Mac (Diyi’s MacBook Pro)/Desktop/gra/CarpoolSim/build_graph/path_retention/paths_retention_5301_5400.pickle',\n",
       " '/Users/geekduck/Dropbox/My Mac (Diyi’s MacBook Pro)/Desktop/gra/CarpoolSim/build_graph/path_retention/paths_retention_5401_5500.pickle',\n",
       " '/Users/geekduck/Dropbox/My Mac (Diyi’s MacBook Pro)/Desktop/gra/CarpoolSim/build_graph/path_retention/paths_retention_5501_5600.pickle',\n",
       " '/Users/geekduck/Dropbox/My Mac (Diyi’s MacBook Pro)/Desktop/gra/CarpoolSim/build_graph/path_retention/paths_retention_5601_5700.pickle',\n",
       " '/Users/geekduck/Dropbox/My Mac (Diyi’s MacBook Pro)/Desktop/gra/CarpoolSim/build_graph/path_retention/paths_retention_5701_5800.pickle',\n",
       " '/Users/geekduck/Dropbox/My Mac (Diyi’s MacBook Pro)/Desktop/gra/CarpoolSim/build_graph/path_retention/paths_retention_5801_5873.pickle']"
      ]
     },
     "metadata": {},
     "output_type": "display_data"
    }
   ],
   "source": [
    "import pickle\n",
    "import os\n",
    "import glob\n",
    "import time\n",
    "\n",
    "rt = '/Users/geekduck/Dropbox/My Mac (Diyi’s MacBook Pro)'\n",
    "\n",
    "path_retention_name_pattern = os.path.join(\n",
    "    rt, \n",
    "    'Desktop/gra/CarpoolSim/build_graph/path_retention',\n",
    "    'paths_retention_*.pickle'\n",
    ")\n",
    "\n",
    "pickle_lst = glob.glob(path_retention_name_pattern)\n",
    "pickle_lst = sorted(pickle_lst)\n",
    "display(pickle_lst)"
   ]
  },
  {
   "cell_type": "code",
   "execution_count": 101,
   "metadata": {},
   "outputs": [
    {
     "data": {
      "text/plain": [
       "59"
      ]
     },
     "execution_count": 101,
     "metadata": {},
     "output_type": "execute_result"
    }
   ],
   "source": [
    "len(pickle_lst)"
   ]
  },
  {
   "cell_type": "code",
   "execution_count": 102,
   "metadata": {},
   "outputs": [],
   "source": [
    "from sqlalchemy import create_engine\n",
    "import pickle\n",
    "\n",
    "import numpy as np\n",
    "import pandas as pd"
   ]
  },
  {
   "cell_type": "code",
   "execution_count": 103,
   "metadata": {},
   "outputs": [],
   "source": [
    "from core_script.database.prepare_database import (\n",
    "    convert_dict_to_row,\n",
    "    batch_store_df\n",
    ")"
   ]
  },
  {
   "cell_type": "code",
   "execution_count": 104,
   "metadata": {},
   "outputs": [
    {
     "name": "stdout",
     "output_type": "stream",
     "text": [
      "successfully connected\n"
     ]
    }
   ],
   "source": [
    "# engine = create_engine(db_url, executemany_mode=\"batch\")\n",
    "db_url = 'sqlite:///build_graph/path_retention.db'\n",
    "engine = create_engine(db_url)\n",
    "\n",
    "with engine.connect() as connection:\n",
    "    print('successfully connected')"
   ]
  },
  {
   "cell_type": "code",
   "execution_count": 105,
   "metadata": {
    "tags": []
   },
   "outputs": [
    {
     "name": "stdout",
     "output_type": "stream",
     "text": [
      "start feeding data to database! Dataframe shape:  (587300, 2)\n",
      "Appended a whole batch data to the server!\n",
      "start feeding data to database! Dataframe shape:  (587300, 2)\n",
      "Appended a whole batch data to the server!\n",
      "start feeding data to database! Dataframe shape:  (587300, 2)\n",
      "Appended a whole batch data to the server!\n",
      "start feeding data to database! Dataframe shape:  (587300, 2)\n",
      "Appended a whole batch data to the server!\n",
      "start feeding data to database! Dataframe shape:  (587300, 2)\n",
      "Appended a whole batch data to the server!\n",
      "start feeding data to database! Dataframe shape:  (587300, 2)\n",
      "Appended a whole batch data to the server!\n",
      "start feeding data to database! Dataframe shape:  (587300, 2)\n",
      "Appended a whole batch data to the server!\n",
      "start feeding data to database! Dataframe shape:  (587300, 2)\n",
      "Appended a whole batch data to the server!\n",
      "start feeding data to database! Dataframe shape:  (587300, 2)\n",
      "Appended a whole batch data to the server!\n",
      "start feeding data to database! Dataframe shape:  (587300, 2)\n",
      "Appended a whole batch data to the server!\n",
      "start feeding data to database! Dataframe shape:  (587300, 2)\n",
      "Appended a whole batch data to the server!\n",
      "start feeding data to database! Dataframe shape:  (587300, 2)\n",
      "Appended a whole batch data to the server!\n",
      "start feeding data to database! Dataframe shape:  (587300, 2)\n",
      "Appended a whole batch data to the server!\n",
      "start feeding data to database! Dataframe shape:  (587300, 2)\n",
      "Appended a whole batch data to the server!\n",
      "start feeding data to database! Dataframe shape:  (587300, 2)\n",
      "Appended a whole batch data to the server!\n",
      "start feeding data to database! Dataframe shape:  (587300, 2)\n",
      "Appended a whole batch data to the server!\n",
      "start feeding data to database! Dataframe shape:  (587300, 2)\n",
      "Appended a whole batch data to the server!\n",
      "start feeding data to database! Dataframe shape:  (587300, 2)\n",
      "Appended a whole batch data to the server!\n",
      "start feeding data to database! Dataframe shape:  (587300, 2)\n",
      "Appended a whole batch data to the server!\n",
      "start feeding data to database! Dataframe shape:  (587300, 2)\n",
      "Appended a whole batch data to the server!\n",
      "start feeding data to database! Dataframe shape:  (587300, 2)\n",
      "Appended a whole batch data to the server!\n",
      "start feeding data to database! Dataframe shape:  (587300, 2)\n",
      "Appended a whole batch data to the server!\n",
      "start feeding data to database! Dataframe shape:  (587300, 2)\n",
      "Appended a whole batch data to the server!\n",
      "start feeding data to database! Dataframe shape:  (587300, 2)\n",
      "Appended a whole batch data to the server!\n",
      "start feeding data to database! Dataframe shape:  (587300, 2)\n",
      "Appended a whole batch data to the server!\n",
      "start feeding data to database! Dataframe shape:  (587300, 2)\n",
      "Appended a whole batch data to the server!\n",
      "start feeding data to database! Dataframe shape:  (587300, 2)\n",
      "Appended a whole batch data to the server!\n",
      "start feeding data to database! Dataframe shape:  (587300, 2)\n",
      "Appended a whole batch data to the server!\n",
      "start feeding data to database! Dataframe shape:  (587300, 2)\n",
      "Appended a whole batch data to the server!\n",
      "start feeding data to database! Dataframe shape:  (587300, 2)\n",
      "Appended a whole batch data to the server!\n",
      "start feeding data to database! Dataframe shape:  (587300, 2)\n",
      "Appended a whole batch data to the server!\n",
      "start feeding data to database! Dataframe shape:  (587300, 2)\n",
      "Appended a whole batch data to the server!\n",
      "start feeding data to database! Dataframe shape:  (587300, 2)\n",
      "Appended a whole batch data to the server!\n",
      "start feeding data to database! Dataframe shape:  (587300, 2)\n",
      "Appended a whole batch data to the server!\n",
      "start feeding data to database! Dataframe shape:  (587300, 2)\n",
      "Appended a whole batch data to the server!\n",
      "start feeding data to database! Dataframe shape:  (587300, 2)\n",
      "Appended a whole batch data to the server!\n",
      "start feeding data to database! Dataframe shape:  (587300, 2)\n",
      "Appended a whole batch data to the server!\n",
      "start feeding data to database! Dataframe shape:  (587300, 2)\n",
      "Appended a whole batch data to the server!\n",
      "start feeding data to database! Dataframe shape:  (587300, 2)\n",
      "Appended a whole batch data to the server!\n",
      "start feeding data to database! Dataframe shape:  (587300, 2)\n",
      "Appended a whole batch data to the server!\n",
      "start feeding data to database! Dataframe shape:  (587300, 2)\n",
      "Appended a whole batch data to the server!\n",
      "start feeding data to database! Dataframe shape:  (587300, 2)\n",
      "Appended a whole batch data to the server!\n",
      "start feeding data to database! Dataframe shape:  (587300, 2)\n",
      "Appended a whole batch data to the server!\n",
      "start feeding data to database! Dataframe shape:  (587300, 2)\n",
      "Appended a whole batch data to the server!\n",
      "start feeding data to database! Dataframe shape:  (587300, 2)\n",
      "Appended a whole batch data to the server!\n",
      "start feeding data to database! Dataframe shape:  (587300, 2)\n",
      "Appended a whole batch data to the server!\n",
      "start feeding data to database! Dataframe shape:  (587300, 2)\n",
      "Appended a whole batch data to the server!\n",
      "start feeding data to database! Dataframe shape:  (587300, 2)\n",
      "Appended a whole batch data to the server!\n",
      "start feeding data to database! Dataframe shape:  (587300, 2)\n",
      "Appended a whole batch data to the server!\n",
      "start feeding data to database! Dataframe shape:  (587300, 2)\n",
      "Appended a whole batch data to the server!\n",
      "start feeding data to database! Dataframe shape:  (587300, 2)\n",
      "Appended a whole batch data to the server!\n",
      "start feeding data to database! Dataframe shape:  (587300, 2)\n",
      "Appended a whole batch data to the server!\n",
      "start feeding data to database! Dataframe shape:  (587300, 2)\n",
      "Appended a whole batch data to the server!\n",
      "start feeding data to database! Dataframe shape:  (587300, 2)\n",
      "Appended a whole batch data to the server!\n",
      "start feeding data to database! Dataframe shape:  (587300, 2)\n",
      "Appended a whole batch data to the server!\n",
      "start feeding data to database! Dataframe shape:  (587300, 2)\n",
      "Appended a whole batch data to the server!\n",
      "start feeding data to database! Dataframe shape:  (587300, 2)\n",
      "Appended a whole batch data to the server!\n",
      "start feeding data to database! Dataframe shape:  (587300, 2)\n",
      "Appended a whole batch data to the server!\n",
      "start feeding data to database! Dataframe shape:  (428729, 2)\n",
      "Appended a whole batch data to the server!\n",
      "Loading jobs finished. It takes 28.3 minutes in total!\n"
     ]
    }
   ],
   "source": [
    "# load pickle files to the database\n",
    "t0 = time.perf_counter()\n",
    "\n",
    "lst = [(item, db_url) for item in pickle_lst]\n",
    "# with multiprocess.Pool(16) as pool:\n",
    "#     results = pool.starmap(batch_store_from_name, lst)\n",
    "\n",
    "# just use loop to avoid racing conditions of multiprocessing...\n",
    "for pk_name in pickle_lst:\n",
    "    batch_store_from_name(pk_name, db_url)\n",
    "\n",
    "\n",
    "t1 = time.perf_counter()\n",
    "print(f'Loading jobs finished. It takes {(t1-t0)/60:.1f} minutes in total!')"
   ]
  },
  {
   "cell_type": "markdown",
   "metadata": {},
   "source": [
    "# Try to access the database"
   ]
  },
  {
   "cell_type": "code",
   "execution_count": 106,
   "metadata": {},
   "outputs": [],
   "source": [
    "# test the database works as expected\n",
    "engine = create_engine(db_url)\n",
    "\n",
    "# drop table dists;\n",
    "# engine.execute('drop table dists;')"
   ]
  },
  {
   "cell_type": "code",
   "execution_count": 120,
   "metadata": {},
   "outputs": [],
   "source": [
    "from core_script.database.query_database import (\n",
    "    query_od_info,\n",
    "    execute_sql_command\n",
    ")"
   ]
  },
  {
   "cell_type": "code",
   "execution_count": 121,
   "metadata": {
    "tags": []
   },
   "outputs": [
    {
     "name": "stdout",
     "output_type": "stream",
     "text": [
      "('1404', '2820', 10.90411714285714, ['1404', '25495', '1403', '10415', '1402', '65883', '14841', '10304', '81987', '10457', '10459', '14869', '10458', '10467', '10464', '20940', '10469', '10472', '10473', '10479', '83091', '83093', '10474', '13593', '11959', '11960', '83099', '83101', '11961', '14599', '81454', '81455', '14597', '14596', '81451', '36631', '2820'])\n"
     ]
    }
   ],
   "source": [
    "results = query_od_info(engine, '1404', '2820')\n",
    "print(results)"
   ]
  },
  {
   "cell_type": "code",
   "execution_count": 122,
   "metadata": {},
   "outputs": [
    {
     "data": {
      "text/plain": [
       "34492129"
      ]
     },
     "execution_count": 122,
     "metadata": {},
     "output_type": "execute_result"
    }
   ],
   "source": [
    "5873 * 5873"
   ]
  },
  {
   "cell_type": "code",
   "execution_count": 124,
   "metadata": {},
   "outputs": [
    {
     "name": "stdout",
     "output_type": "stream",
     "text": [
      "34492129\n"
     ]
    }
   ],
   "source": [
    "# should be 5873 * 5873 = \n",
    "sql_command = \"SELECT count(*) FROM dists;\"\n",
    "\n",
    "tot_lines = execute_sql_command(engine, sql_command, mode=\"scalar\")\n",
    "print(tot_lines)"
   ]
  },
  {
   "cell_type": "code",
   "execution_count": 128,
   "metadata": {},
   "outputs": [
    {
     "data": {
      "text/plain": [
       "[('1', '1', 0.0, \"['1']\"),\n",
       " ('1', '2', 1.6642285714285716, \"['1', '80483', '2']\"),\n",
       " ('1', '3', 1.9914342857142857, \"['1', '65666', '3']\"),\n",
       " ('1', '4', 4.348765714285714, \"['1', '65666', '3', '74491', '4']\"),\n",
       " ('1', '5', 5.66832, \"['1', '65666', '3', '74491', '4', '74487', '5']\")]"
      ]
     },
     "metadata": {},
     "output_type": "display_data"
    }
   ],
   "source": [
    "sql_command = \"SELECT * FROM dists LIMIT 5;\"\n",
    "\n",
    "tot_lines = execute_sql_command(engine, sql_command, mode=\"fetchall\")\n",
    "display(tot_lines)"
   ]
  },
  {
   "cell_type": "code",
   "execution_count": null,
   "metadata": {},
   "outputs": [],
   "source": []
  },
  {
   "cell_type": "code",
   "execution_count": null,
   "metadata": {},
   "outputs": [],
   "source": []
  }
 ],
 "metadata": {
  "kernelspec": {
   "display_name": "Python 3 (ipykernel)",
   "language": "python",
   "name": "python3"
  },
  "language_info": {
   "codemirror_mode": {
    "name": "ipython",
    "version": 3
   },
   "file_extension": ".py",
   "mimetype": "text/x-python",
   "name": "python",
   "nbconvert_exporter": "python",
   "pygments_lexer": "ipython3",
   "version": "3.12.2"
  }
 },
 "nbformat": 4,
 "nbformat_minor": 4
}
