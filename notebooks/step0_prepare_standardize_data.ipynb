{
 "cells": [
  {
   "cell_type": "markdown",
   "id": "12bc0047-79d5-49e4-90f2-9a52c057ae0b",
   "metadata": {},
   "source": [
    "# Convert to a standardized version of dataframe\n",
    "\n",
    "A converter to convert data frame to a standard format for carpoolsim:\n",
    "1. Traffic network links\n",
    "2. Traffic network nodes\n",
    "3. Traffic TAZs (polygons)\n",
    "4. Traffic demands "
   ]
  },
  {
   "cell_type": "code",
   "execution_count": 1,
   "id": "f395fea4-7d3f-4387-b000-594cb3fdcbd2",
   "metadata": {},
   "outputs": [],
   "source": [
    "import time\n",
    "import copy\n",
    "import os\n",
    "import sys\n",
    "\n",
    "import numpy as np\n",
    "import pandas as pd\n",
    "import geopandas as gpd\n",
    "\n",
    "%load_ext autoreload\n",
    "%autoreload 2\n",
    "pd.options.display.max_columns = None  # display all columns"
   ]
  },
  {
   "cell_type": "code",
   "execution_count": 2,
   "id": "67c212f7-4bc0-4785-b221-84b64efbbd90",
   "metadata": {},
   "outputs": [],
   "source": [
    "# need to set this environmental path everytime you moves the project root folder\n",
    "os.environ['project_root'] = '/Users/geekduck/Dropbox/gt_survey'\n",
    "\n",
    "sys.path.append(\n",
    "    os.environ['project_root']\n",
    ")"
   ]
  },
  {
   "cell_type": "code",
   "execution_count": 3,
   "id": "8582653a-fc6e-4329-88be-5d7ddfbcc659",
   "metadata": {},
   "outputs": [],
   "source": [
    "from carpoolsim.basic_settings import *"
   ]
  },
  {
   "cell_type": "code",
   "execution_count": 4,
   "id": "534b4246-1ef4-492c-89f5-2d5d58afc303",
   "metadata": {},
   "outputs": [],
   "source": [
    "# load traffic network data\n",
    "tazs_raw = gpd.read_file(os.environ[\"taz\"])\n",
    "df_nodes_raw = gpd.read_file(os.environ['network_nodes'])\n",
    "df_links_raw = gpd.read_file(os.environ['network_links'])"
   ]
  },
  {
   "cell_type": "code",
   "execution_count": 19,
   "id": "c4174c92-8c9a-4dd1-a354-daaaceb33f1c",
   "metadata": {},
   "outputs": [],
   "source": [
    "from carpoolsim.dataclass.traffic_network import (\n",
    "    TrafficNetworkLink,\n",
    "    TrafficNetworkNode,\n",
    "    TrafficAnalysisZone,\n",
    ")"
   ]
  },
  {
   "cell_type": "code",
   "execution_count": 31,
   "id": "c22bf938-bc2a-42c8-acc6-72a9f99e1394",
   "metadata": {},
   "outputs": [],
   "source": [
    "# clean node object\n",
    "node_name_map = {\n",
    "    \"N\": \"nid\",\n",
    "    \"lat\": \"lat\",\n",
    "    \"lon\": \"lon\",\n",
    "    \"X\": \"x\",\n",
    "    \"Y\": \"y\",\n",
    "    \"geometry\": \"geometry\"\n",
    "}\n",
    "df_nodes_raw = df_nodes_raw.rename(columns=node_name_map)\n",
    "\n",
    "df_nodes_lst = []\n",
    "for index, row in df_nodes_raw.iterrows():\n",
    "    df_nodes_lst.append(\n",
    "        TrafficNetworkNode(row[\"nid\"], row[\"lon\"], row[\"lat\"], row[\"x\"], row[\"y\"], row[\"geometry\"])\n",
    "    )"
   ]
  },
  {
   "cell_type": "code",
   "execution_count": 44,
   "id": "81519b88-42b5-4677-a626-a1492159894f",
   "metadata": {},
   "outputs": [],
   "source": [
    "# clean link object\n",
    "link_name_map = {\n",
    "    \"A\": \"a\",\n",
    "    \"B\": \"b\",\n",
    "    \"DISTANCE\": \"distance\",\n",
    "    \"FACTYPE\": \"factype\",\n",
    "    \"geometry\": \"geometry\",\n",
    "    \"SPEED_LIMI\": \"speed_limit\"\n",
    "}\n",
    "df_links_raw = df_links_raw.rename(columns=link_name_map)\n",
    "df_links_raw[\"a_b\"] = f'{df_links_raw[\"a\"]}_{df_links_raw[\"b\"]}'\n",
    "\n",
    "\n",
    "df_links_lst = []\n",
    "for index, row in df_links_raw.iterrows():\n",
    "    df_links_lst.append(\n",
    "        TrafficNetworkLink(\n",
    "            row[\"a\"], row[\"b\"], row[\"a_b\"],\n",
    "            row[\"distance\"], row[\"factype\"], row[\"speed_limit\"],\n",
    "            row[\"geometry\"]\n",
    "        )\n",
    "    )"
   ]
  },
  {
   "cell_type": "code",
   "execution_count": 33,
   "id": "737b2622-74a5-411b-9923-82abee85d3c4",
   "metadata": {},
   "outputs": [],
   "source": [
    "# clean taz object\n",
    "taz_name_map = {\n",
    "    \"OBJECTID\": \"taz_id\",\n",
    "    \"geometry\": \"geometry\",\n",
    "}\n",
    "tazs_raw = tazs_raw.rename(columns=taz_name_map)\n",
    "\n",
    "\n",
    "tazs_lst = []\n",
    "for index, row in tazs_raw.iterrows():\n",
    "    tazs_lst.append(\n",
    "        TrafficAnalysisZone(row[\"taz_id\"], row[\"geometry\"])\n",
    "    )"
   ]
  },
  {
   "cell_type": "code",
   "execution_count": 45,
   "id": "0347f9d2-07bb-4c23-a1b5-852ad555b67a",
   "metadata": {},
   "outputs": [],
   "source": [
    "# convert data sets base to data frames\n",
    "df_nodes = gpd.GeoDataFrame(df_nodes_lst)\n",
    "df_links = gpd.GeoDataFrame(df_links_lst)\n",
    "tazs = gpd.GeoDataFrame(tazs_lst)"
   ]
  },
  {
   "cell_type": "code",
   "execution_count": 46,
   "id": "42dbc3a6-984f-477a-848a-63e096a8438b",
   "metadata": {},
   "outputs": [
    {
     "name": "stdout",
     "output_type": "stream",
     "text": [
      "(5873, 2)\n",
      "(27524, 6)\n",
      "(75289, 7)\n"
     ]
    }
   ],
   "source": [
    "print(tazs.shape)\n",
    "print(df_nodes.shape)\n",
    "print(df_links.shape)"
   ]
  },
  {
   "cell_type": "code",
   "execution_count": 48,
   "id": "589b4a3d-a38a-45d9-975f-fef37b7e8060",
   "metadata": {},
   "outputs": [
    {
     "name": "stderr",
     "output_type": "stream",
     "text": [
      "/var/folders/d2/ff61f5qd5y70wqh32zc2prvc0000gn/T/ipykernel_84950/1918336773.py:8: UserWarning: Column names longer than 10 characters will be truncated when saved to ESRI Shapefile.\n",
      "  df_links.to_file(\n"
     ]
    }
   ],
   "source": [
    "# store cleaned results to shapefiles\n",
    "tazs.to_file(\n",
    "    os.path.join(os.environ['data_inputs'], \"cleaned\", \"tazs.shp\")\n",
    ")\n",
    "df_nodes.to_file(\n",
    "    os.path.join(os.environ['data_inputs'], \"cleaned\", \"nodes.shp\")\n",
    ")\n",
    "df_links.to_file(\n",
    "    os.path.join(os.environ['data_inputs'], \"cleaned\", \"links.shp\")\n",
    ")"
   ]
  },
  {
   "cell_type": "code",
   "execution_count": null,
   "id": "a03c540b-9c68-4000-af8e-7013d71f4b8a",
   "metadata": {},
   "outputs": [],
   "source": []
  }
 ],
 "metadata": {
  "kernelspec": {
   "display_name": "Python 3 (ipykernel)",
   "language": "python",
   "name": "python3"
  },
  "language_info": {
   "codemirror_mode": {
    "name": "ipython",
    "version": 3
   },
   "file_extension": ".py",
   "mimetype": "text/x-python",
   "name": "python",
   "nbconvert_exporter": "python",
   "pygments_lexer": "ipython3",
   "version": "3.12.2"
  }
 },
 "nbformat": 4,
 "nbformat_minor": 5
}
